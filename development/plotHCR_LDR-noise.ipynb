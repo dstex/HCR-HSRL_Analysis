{
 "cells": [
  {
   "cell_type": "markdown",
   "metadata": {
    "run_control": {
     "frozen": false,
     "read_only": false
    }
   },
   "source": [
    "# plotHCR_LDR-noise\n",
    "Used this script to help determine the power return likely to be the threshold between noise and legit returns. Plots the histogram of DBMHX and then prints the DBM of the peak. From there, we eyeballed a value to the right of the peak where the distribution has mostly leveled off. We can then mask LDR on this value and plot before and after plots for a given period of time to evaluate.\n",
    "<br><br>\n",
    "<font color='blue'>DBMHX threshold for SOCRATES chosen to be **-101.0 dBm** _(based on evaluations of multiple flights)_</font>\n",
    "<br><br>\n",
    "_Written by Dan Stechman_\n",
    "<br>\n",
    "_University of Illinois at Urbana-Champaign_"
   ]
  },
  {
   "cell_type": "code",
   "execution_count": null,
   "metadata": {
    "ExecuteTime": {
     "end_time": "2018-02-05T10:45:21.587205",
     "start_time": "2018-02-05T10:45:21.552907"
    },
    "collapsed": false,
    "run_control": {
     "frozen": false,
     "read_only": false
    }
   },
   "outputs": [],
   "source": [
    "import pyart\n",
    "import pandas as pd\n",
    "import numpy as np\n",
    "from matplotlib import pyplot as plt\n",
    "import warnings\n",
    "warnings.filterwarnings(\"ignore\",category=FutureWarning)\n",
    "import xarray as xr\n",
    "import datetime\n",
    "import matplotlib.dates as mdates\n",
    "import os\n",
    "\n",
    "dt = datetime.datetime\n",
    "\n",
    "warnings.filterwarnings(\"ignore\",category=RuntimeWarning)\n",
    "\n",
    "np.set_printoptions(suppress=True)\n",
    "%matplotlib inline "
   ]
  },
  {
   "cell_type": "code",
   "execution_count": null,
   "metadata": {
    "ExecuteTime": {
     "end_time": "2018-02-05T10:45:21.599583",
     "start_time": "2018-02-05T10:45:21.588699"
    },
    "code_folding": [
     53,
     57,
     60,
     63
    ],
    "collapsed": false,
    "run_control": {
     "frozen": false,
     "read_only": false
    }
   },
   "outputs": [],
   "source": [
    "# flight = 'RF06_20180129'\n",
    "# startT = '20180129_051500'\n",
    "# endT = '20180129_053000'\n",
    "\n",
    "# flight = 'RF03_20180123'\n",
    "# startT = '20180122_224500'\n",
    "# endT = '20180122_230000'\n",
    "\n",
    "flight = 'RF02_20180119'\n",
    "startT = '20180119_043000'\n",
    "endT = '20180119_044500'\n",
    "\n",
    "hcrFile = '/Volumes/SOCRATES_1/' + flight + '/HCR/' + flight + '_concat-HCR-moments.nc'"
   ]
  },
  {
   "cell_type": "code",
   "execution_count": null,
   "metadata": {
    "ExecuteTime": {
     "end_time": "2018-02-05T10:46:19.327491",
     "start_time": "2018-02-05T10:45:21.601858"
    },
    "collapsed": false,
    "run_control": {
     "frozen": false,
     "read_only": false
    }
   },
   "outputs": [],
   "source": [
    "hcrData = xr.open_dataset(hcrFile)\n",
    "\n",
    "time1d = np.asarray(hcrData['time1d'].data,dtype='datetime64[ns]')\n",
    "time1d_rnd = (pd.to_datetime(time1d)).round('1s').values\n",
    "time2d = np.asarray(hcrData['time2d'].data,dtype='datetime64[ns]')\n",
    "gateAlt = hcrData['gateAlt2d'].data\n",
    "\n",
    "dbz = hcrData['DBZ'].data\n",
    "ldr = hcrData['LDR'].data\n",
    "ncp = hcrData['NCP'].data\n",
    "dbmhx = hcrData['DBMHX'].data"
   ]
  },
  {
   "cell_type": "code",
   "execution_count": null,
   "metadata": {
    "ExecuteTime": {
     "end_time": "2018-02-05T10:49:05.117150",
     "start_time": "2018-02-05T10:46:19.330214"
    },
    "collapsed": false,
    "run_control": {
     "frozen": false,
     "read_only": false
    }
   },
   "outputs": [],
   "source": [
    "dbmhx_masked = [p for p in dbmhx[:,26:].flatten() if np.isfinite(p)]"
   ]
  },
  {
   "cell_type": "code",
   "execution_count": null,
   "metadata": {
    "ExecuteTime": {
     "end_time": "2018-02-05T10:50:06.730998",
     "start_time": "2018-02-05T10:49:05.119350"
    },
    "collapsed": false,
    "run_control": {
     "frozen": false,
     "read_only": false
    }
   },
   "outputs": [],
   "source": [
    "n, bins, patches = plt.hist(dbmhx_masked,bins='auto')\n",
    "plt.xlim(-103, -100)\n",
    "maxDBMHX = bins[np.argmax(n)]\n",
    "print(maxDBMHX)"
   ]
  },
  {
   "cell_type": "code",
   "execution_count": null,
   "metadata": {
    "ExecuteTime": {
     "end_time": "2018-02-05T10:53:55.644340",
     "start_time": "2018-02-05T10:53:41.413149"
    },
    "collapsed": false,
    "run_control": {
     "frozen": false,
     "read_only": false
    },
    "scrolled": true
   },
   "outputs": [],
   "source": [
    "dbz_masked_ncp = np.ma.masked_where((ncp < 0.2)|(gateAlt < 0)|np.isinf(dbz)|np.isnan(dbz),dbz)\n",
    "ldr_masked_inv0 = np.ma.masked_where((gateAlt < 0)|np.isinf(ldr)|np.isnan(ldr),ldr)\n",
    "ldr_masked_dbmhx = np.ma.masked_where((dbmhx < -101.0),ldr_masked_inv0)"
   ]
  },
  {
   "cell_type": "code",
   "execution_count": null,
   "metadata": {
    "ExecuteTime": {
     "end_time": "2018-02-05T10:54:32.223279",
     "start_time": "2018-02-05T10:53:55.645969"
    },
    "collapsed": false,
    "run_control": {
     "frozen": false,
     "read_only": false
    }
   },
   "outputs": [],
   "source": [
    "startT_dt = dt.strptime(startT,'%Y%m%d_%H%M%S')\n",
    "endT_dt = dt.strptime(endT,'%Y%m%d_%H%M%S')\n",
    "\n",
    "tMatchStrt = min(time1d_rnd, key=lambda x: abs(pd.to_datetime(x) - startT_dt))\n",
    "startT_ix = np.squeeze(np.where(time1d_rnd == tMatchStrt))[0]\n",
    "tMatchEnd = min(time1d_rnd, key=lambda x: abs(pd.to_datetime(x) - endT_dt))\n",
    "endT_ix = np.squeeze(np.where(time1d_rnd == tMatchEnd))[-1]\n",
    "\n",
    "strtDT_rnd = pd.to_datetime(time1d_rnd[startT_ix])\n",
    "endDT_rnd = pd.to_datetime(time1d_rnd[endT_ix])"
   ]
  },
  {
   "cell_type": "code",
   "execution_count": null,
   "metadata": {
    "ExecuteTime": {
     "end_time": "2018-02-05T10:54:49.340357",
     "start_time": "2018-02-05T10:54:32.225114"
    },
    "collapsed": false,
    "run_control": {
     "frozen": false,
     "read_only": false
    }
   },
   "outputs": [],
   "source": [
    "if strtDT_rnd.day == endDT_rnd.day:\n",
    "    titleDTstr = '{} - {}-{}'.format(dt.strftime(strtDT_rnd,'%Y%m%d'),dt.strftime(strtDT_rnd,'%H:%M:%S'),\n",
    "                                     dt.strftime(endDT_rnd,'%H:%M:%S'))\n",
    "    saveDTstr = '{}_{}-{}'.format(dt.strftime(strtDT_rnd,'%Y%m%d'),dt.strftime(strtDT_rnd,'%H%M'),\n",
    "                                     dt.strftime(endDT_rnd,'%H%M'))\n",
    "else:\n",
    "    titleDTstr = '{}-{} - {}-{}'.format(dt.strftime(strtDT_rnd,'%Y%m%d'),dt.strftime(strtDT_rnd,'%H:%M:%S'),\n",
    "                                     dt.strftime(endDT_rnd,'%Y%m%d'),dt.strftime(endDT_rnd,'%H:%M:%S'))\n",
    "    saveDTstr = '{}_{}-{}_{}'.format(dt.strftime(strtDT_rnd,'%Y%m%d'),dt.strftime(strtDT_rnd,'%H%M'),\n",
    "                                     dt.strftime(endDT_rnd,'%Y%m%d'),dt.strftime(endDT_rnd,'%H%M'))\n",
    "\n",
    "print('\\tPlotting {}'.format(titleDTstr))\n",
    "\n",
    "xtick_formatter = mdates.DateFormatter(fmt='%H:%M')\n",
    "\n",
    "fig, (ax1, ax2, ax3) = plt.subplots(3, sharex=True, sharey=True,figsize=(48,21))\n",
    "axFsz = 32\n",
    "caxFsz = 24\n",
    "ttlFsz = 36\n",
    "tkFsz = 24\n",
    "ctkFsz = 18\n",
    "caxShrnk = 0.9\n",
    "\n",
    "titleAppnd = ''\n",
    "saveAppnd = ''\n",
    "\n",
    "\n",
    "im1 = ax1.pcolormesh(time2d[startT_ix:endT_ix,:],gateAlt[startT_ix:endT_ix,:]/1000,dbz_masked_ncp[startT_ix:endT_ix,:],\n",
    "                     vmin=-40,vmax=16,cmap=pyart.graph.cm.LangRainbow12)\n",
    "ax1.set_ylim([0,7])\n",
    "cax1 = fig.colorbar(im1,ax=ax1,fraction=0.08,shrink=caxShrnk,pad=0.008)\n",
    "cax1.set_label('Reflectivity (dBZ)',fontsize=caxFsz)\n",
    "cax1.ax.set_yticklabels(cax1.ax.get_yticklabels(), fontsize=ctkFsz)\n",
    "ax1.tick_params(axis='both', which='major', labelsize=tkFsz)\n",
    "ax1.set_title('SOCRATES - {} UTC{}'.format(titleDTstr,titleAppnd),fontsize=ttlFsz) \n",
    "ax1.grid()\n",
    "\n",
    "\n",
    "im2 = ax2.pcolormesh(time2d[startT_ix:endT_ix,:],gateAlt[startT_ix:endT_ix,:]/1000,ldr_masked_inv0[startT_ix:endT_ix,:],\n",
    "                     vmin=-40,vmax=0,cmap=pyart.graph.cm.NWSRef)\n",
    "ax2.set_ylim([0,7])\n",
    "cax2 = fig.colorbar(im2,ax=ax2,fraction=0.08,shrink=caxShrnk,pad=0.008)\n",
    "cax2.ax.set_yticklabels(cax2.ax.get_yticklabels(), fontsize=ctkFsz)\n",
    "cax2.set_label('LDR_Inv0-Masked (dB)',fontsize=caxFsz)\n",
    "ax2.tick_params(axis='both', which='major', labelsize=tkFsz)\n",
    "ax2.grid()\n",
    "ax2.set_ylabel('Altitude (km)',fontsize=axFsz)\n",
    "\n",
    "im3 = ax3.pcolormesh(time2d[startT_ix:endT_ix,:],gateAlt[startT_ix:endT_ix,:]/1000,ldr_masked_dbmhx[startT_ix:endT_ix,:],\n",
    "                     vmin=-40,vmax=0,cmap=pyart.graph.cm.NWSRef)\n",
    "ax3.set_ylim([0,7])\n",
    "cax3 = fig.colorbar(im3,ax=ax3,fraction=0.08,shrink=caxShrnk,pad=0.008)\n",
    "cax3.ax.set_yticklabels(cax3.ax.get_yticklabels(), fontsize=ctkFsz)\n",
    "cax3.set_label('LDR_DBMX-Masked (dB)',fontsize=caxFsz)\n",
    "ax3.tick_params(axis='both', which='major', labelsize=tkFsz)\n",
    "ax3.grid()\n",
    "ax3.set_xlabel('Time (UTC)',fontsize=axFsz)\n",
    "ax3.xaxis.set_major_locator(mdates.MinuteLocator())\n",
    "ax3.xaxis.set_major_formatter(xtick_formatter)\n",
    "\n",
    "\n",
    "fig.autofmt_xdate()\n",
    "fig.subplots_adjust(hspace=0.08)\n",
    "\n",
    "# saveStr = '{}HCR-ldrNoiseThresh_{}{}.{}'.format(figSavePath,saveDTstr,saveAppnd,fType)\n",
    "# fig.savefig(saveStr,bbox_inches='tight')"
   ]
  }
 ],
 "metadata": {
  "anaconda-cloud": {},
  "kernelspec": {
   "display_name": "Python [conda root]",
   "language": "python",
   "name": "conda-root-py"
  },
  "language_info": {
   "codemirror_mode": {
    "name": "ipython",
    "version": 3
   },
   "file_extension": ".py",
   "mimetype": "text/x-python",
   "name": "python",
   "nbconvert_exporter": "python",
   "pygments_lexer": "ipython3",
   "version": "3.5.2"
  }
 },
 "nbformat": 4,
 "nbformat_minor": 1
}

{
 "cells": [
  {
   "cell_type": "markdown",
   "metadata": {
    "run_control": {
     "frozen": false,
     "read_only": false
    }
   },
   "source": [
    "# plotHSRL-HCR\n",
    "This script imports and plots HIAPER Cloud Radar reflectivity from concatenated versions (_using `concatHCRmoments`_) of the associated cfradial files, along with a number of variables from the High Spectral Resolution Lidar concatenated versions (_using `concatHSRLprelimData`_) of the associated \"preliminary_data\" files.\n",
    "<br><br>\n",
    "Typically this script will take ~30 min to plot 15-min 4-panel plots for ~7 hours of flight time (run on an early 2015 MacBook Pro).\n",
    "<br><br>\n",
    "_Written by Dan Stechman_\n",
    "<br>\n",
    "_University of Illinois at Urbana-Champaign_"
   ]
  },
  {
   "cell_type": "code",
   "execution_count": null,
   "metadata": {
    "ExecuteTime": {
     "end_time": "2018-01-31T13:31:40.518607",
     "start_time": "2018-01-31T13:31:36.576103"
    },
    "collapsed": false,
    "run_control": {
     "frozen": false,
     "read_only": false
    }
   },
   "outputs": [],
   "source": [
    "import pyart\n",
    "import pandas as pd\n",
    "import numpy as np\n",
    "from matplotlib import pyplot as plt\n",
    "import xarray as xr\n",
    "import datetime\n",
    "import matplotlib.dates as mdates\n",
    "import matplotlib.colors as colors\n",
    "import warnings\n",
    "import os\n",
    "\n",
    "dt = datetime.datetime\n",
    "\n",
    "scriptStrtT = dt.now()\n",
    "\n",
    "warnings.filterwarnings(\"ignore\",category=RuntimeWarning)\n",
    "\n",
    "# np.set_printoptions(precision=3,suppress=True,threshold=10000) # Enable to control number format when printing values within notebook\n",
    "\n",
    "# Enable if plotting single time periods interactively - will display plot within notebook\n",
    "# %matplotlib inline "
   ]
  },
  {
   "cell_type": "markdown",
   "metadata": {
    "run_control": {
     "frozen": false,
     "read_only": false
    }
   },
   "source": [
    "## User Settings\n",
    "This is where the most commonly modified settings reside (i.e., flight, plot start/end times, data location, save path and file type, etc.)"
   ]
  },
  {
   "cell_type": "code",
   "execution_count": null,
   "metadata": {
    "ExecuteTime": {
     "end_time": "2018-01-31T13:31:40.668051",
     "start_time": "2018-01-31T13:31:40.521019"
    },
    "code_folding": [],
    "collapsed": false,
    "run_control": {
     "frozen": false,
     "read_only": false
    }
   },
   "outputs": [],
   "source": [
    "# This variable should match the name of the parent directory containing\n",
    "#    the flight data for the given mission. Used in defining file input \n",
    "#    and output names\n",
    "flight = 'RF02_20180119'\n",
    "\n",
    "# Specifiy the type of output plot you'd like\n",
    "#    Currently, this script only supports making one type at a time\n",
    "fourPanel_5min     = False # Plot 5-min periods spanning startT-endT\n",
    "fourPanel_15min    = True # Plot 15-min periods spanning startT-endT\n",
    "fourPanel_variable = False # Plot only user-defined periods of variable length (see RF02 settings below for an example)\n",
    "\n",
    "# Define flight-specific parameters, namely the period over which to produce plots\n",
    "#    # RF02 case below is commented - please read for more information\n",
    "if flight == 'RF01_20180116':\n",
    "    startT = '20180115_230000'\n",
    "    endT = '20180116_053000'\n",
    "    \n",
    "if flight == 'RF02_20180119':\n",
    "    # If we're only plotting between a single start and end, define only those times\n",
    "    if not fourPanel_variable:\n",
    "        # startT and endT should be strings of the format 'YYYYmmdd_HHMMSS'\n",
    "        #    Be sure that the defined range is evenly divisible by your plot\n",
    "        #    period (i.e., start and end at 00, 15, 30, or 45 min if plot period is every 15 min)\n",
    "        startT = '20180119_013000'\n",
    "        endT = '20180119_064500'\n",
    "        \n",
    "    else:\n",
    "        # Change this to plot the Nth segment in the following set of arrays\n",
    "        #    Currently, you'll need to run the code for each segment \n",
    "        #   (I will automate this if this is commonly used)\n",
    "        segNum = 11\n",
    "\n",
    "        # Set startT and endT pairs for every segment. The ranges between these can be \n",
    "        #    whatever you wish, though times must be rounded to minutes (SS must equal 00)\n",
    "        startT_segs = ['20180119_033500','20180119_034600','20180119_035300','20180119_041400',\n",
    "                       '20180119_042300','20180119_044500','20180119_050100','20180119_051200',\n",
    "                      '20180119_052500','20180119_054200','20180119_055500']\n",
    "        endT_segs = ['20180119_034500','20180119_035200','20180119_040200','20180119_042300',\n",
    "                     '20180119_043500','20180119_050000','20180119_051100','20180119_051800',\n",
    "                    '20180119_053300','20180119_054800','20180119_063200']\n",
    "        \n",
    "        \n",
    "        startT_s = [dt.strptime(sT,'%Y%m%d_%H%M%S') for sT in startT_segs]\n",
    "        endT_s = [dt.strptime(eT,'%Y%m%d_%H%M%S') for eT in endT_segs]\n",
    "        dur_segs = [int((eT-sT).seconds/60) for eT,sT in zip(endT_s,startT_s)]\n",
    "\n",
    "        startT = startT_segs[segNum-1]\n",
    "        endT = endT_segs[segNum-1]\n",
    "        \n",
    "    \n",
    "if flight == 'RF03_20180123':\n",
    "    startT = '20180122_220000'\n",
    "    endT = '20180123_033000'\n",
    "    \n",
    "if flight == 'RF04_20180124':\n",
    "    startT = '20180124_000000'\n",
    "    endT = '20180124_054500'\n",
    "    \n",
    "if flight == 'RF05_20180126':\n",
    "    startT = '20180125_230000'\n",
    "    endT = '20180126_051500'\n",
    "    \n",
    "if flight == 'RF06_20180129':\n",
    "    startT = '20180128_230000'\n",
    "    endT = '20180129_060000'\n",
    "    \n",
    "if flight == 'RF07_20180131':\n",
    "    startT = '20180131_010000'\n",
    "    endT = '20180131_080000'\n",
    "\n",
    "\n",
    "# Define plot period duration and save directory name\n",
    "if fourPanel_5min:\n",
    "    dur = 5\n",
    "    saveDir = '5min_4panel'\n",
    "    \n",
    "if fourPanel_15min:\n",
    "    dur = 15\n",
    "    saveDir = '15min_4panel'\n",
    "\n",
    "if fourPanel_variable:\n",
    "    dur = dur_segs[segNum-1] # Duration of plot period in minutes\n",
    "    saveDir = 'variableSegs_4panel'\n",
    "\n",
    "   \n",
    "# Create a timedelta corresponding to out plotting period\n",
    "tDelta = datetime.timedelta(minutes=dur)\n",
    "\n",
    "# Define the path/name of our concatenated data files\n",
    "hcrFile = '/Volumes/SOCRATES_1/' + flight + '/HCR/' + flight + '_concat-HCR-moments.nc'\n",
    "hsrlFile = '/Volumes/SOCRATES_1/' + flight + '/HSRL/' + flight + '_concat-HSRL-prelimData.nc'\n",
    "\n",
    "# Define the path where figures should be saved and make any required directories\n",
    "figSavePath = '/Users/danstechman/GoogleDrive/School/Research/SOCRATES/UI_OU_SOCRATES_Group/SOCRATES/Plots/' + flight + '/HSRL/' + saveDir + '/'\n",
    "os.makedirs(figSavePath,exist_ok=True)\n",
    "\n",
    "# What type of file do we want our plots to be saved as? (i.e., png, pdf, jpeg,...)\n",
    "fType = 'png'"
   ]
  },
  {
   "cell_type": "markdown",
   "metadata": {
    "run_control": {
     "frozen": false,
     "read_only": false
    }
   },
   "source": [
    "## Read HCR Data\n",
    "Read in the concatenated HCR variables"
   ]
  },
  {
   "cell_type": "code",
   "execution_count": null,
   "metadata": {
    "ExecuteTime": {
     "end_time": "2018-01-31T13:32:46.946048",
     "start_time": "2018-01-31T13:31:40.669938"
    },
    "collapsed": false,
    "run_control": {
     "frozen": false,
     "read_only": false
    }
   },
   "outputs": [],
   "source": [
    "print('{}    Reading concatenated HCR data file for {}...'.format(dt.strftime(dt.now(),'%y/%m/%d %H:%M:%S'),flight))\n",
    "hcrData = xr.open_dataset(hcrFile)\n",
    "\n",
    "hcr_time1d = np.asarray(hcrData['time1d'].data,dtype='datetime64[ns]')\n",
    "hcr_time1d_rnd = (pd.to_datetime(hcr_time1d)).round('1s').values\n",
    "hcr_time2d = np.asarray(hcrData['time2d'].data,dtype='datetime64[ns]')\n",
    "hcr_gateAlt = hcrData['gateAlt2d'].data\n",
    "# hcr_elev = hcrData['elevation'].data\n",
    "\n",
    "# Determine the time indices where the HCR is pointing downward\n",
    "# hcrDwnwrd = np.where(hcr_elev < 0.0)\n",
    "\n",
    "hcr_dbz = hcrData['DBZ'].data\n",
    "# hcr_vel = hcrData['VEL'].data\n",
    "# hcr_width = hcrData['WIDTH'].data\n",
    "# hcr_ldr = hcrData['LDR'].data\n",
    "hcr_ncp = hcrData['NCP'].data\n",
    "# hcr_snr = hcrData['SNR'].data\n",
    "\n",
    "# Adjust radial velocities so negative values are always downward\n",
    "# hcr_vel[hcrDwnwrd,:] *= -1"
   ]
  },
  {
   "cell_type": "markdown",
   "metadata": {
    "run_control": {
     "frozen": false,
     "read_only": false
    }
   },
   "source": [
    "## Read HSRL Data\n",
    "Read in the concatenated HSRL variables"
   ]
  },
  {
   "cell_type": "code",
   "execution_count": null,
   "metadata": {
    "ExecuteTime": {
     "end_time": "2018-01-31T13:32:55.357775",
     "start_time": "2018-01-31T13:32:46.950453"
    },
    "collapsed": false,
    "run_control": {
     "frozen": false,
     "read_only": false
    }
   },
   "outputs": [],
   "source": [
    "print('{}    Reading concatenated HSRL data file for {}...'.format(dt.strftime(dt.now(),'%y/%m/%d %H:%M:%S'),flight))\n",
    "hsrlData = xr.open_dataset(hsrlFile,decode_times=False)\n",
    "\n",
    "hsrl_time1d = np.asarray([dt.fromtimestamp(t) for t in hsrlData['time1d'].data])\n",
    "hsrl_time2d = np.transpose(np.tile(hsrl_time1d,(hsrlData['time2d'].data.shape[1],1)))\n",
    "hsrl_gateAlt = hsrlData['gateAlt2d'].data\n",
    "planeAlt = hsrlData['planeAlt'].data\n",
    "\n",
    "hsrl_aerosolBackCoef = np.ma.masked_array(hsrlData['Aerosol_Backscatter_Coefficient'].data, mask=hsrlData['Aerosol_Backscatter_Coefficient_mask'].data)\n",
    "hsrl_aerosolExtnctCoef = np.ma.masked_array(hsrlData['Aerosol_Extinction_Coefficient'].data, mask=hsrlData['Aerosol_Extinction_Coefficient_mask'].data)\n",
    "hsrl_partDepol = np.ma.masked_array(hsrlData['Particle_Depolarization'].data, mask=hsrlData['Particle_Depolarization_mask'].data)"
   ]
  },
  {
   "cell_type": "markdown",
   "metadata": {
    "run_control": {
     "frozen": false,
     "read_only": false
    }
   },
   "source": [
    "## Mask Variables\n",
    "Mask variables to be plotted based on a number of (adjustable) criteria."
   ]
  },
  {
   "cell_type": "code",
   "execution_count": null,
   "metadata": {
    "ExecuteTime": {
     "end_time": "2018-01-31T13:33:58.693526",
     "start_time": "2018-01-31T13:32:55.360769"
    },
    "collapsed": false,
    "run_control": {
     "frozen": false,
     "read_only": false
    },
    "scrolled": true
   },
   "outputs": [],
   "source": [
    "print('{}    Masking radar moments...'.format(dt.strftime(dt.now(),'%y/%m/%d %H:%M:%S')))\n",
    "dbz_masked_ncp = np.ma.masked_where((hcr_ncp < 0.2)|(hcr_gateAlt < 0)|np.isnan(hcr_dbz)|np.isinf(hcr_dbz),hcr_dbz)"
   ]
  },
  {
   "cell_type": "markdown",
   "metadata": {
    "run_control": {
     "frozen": false,
     "read_only": false
    }
   },
   "source": [
    "## Data Index ID\n",
    "Determine which data indices will provide data between the user-defined start and end times"
   ]
  },
  {
   "cell_type": "code",
   "execution_count": null,
   "metadata": {
    "ExecuteTime": {
     "end_time": "2018-01-31T13:34:36.655768",
     "start_time": "2018-01-31T13:33:58.701711"
    },
    "collapsed": false,
    "run_control": {
     "frozen": false,
     "read_only": false
    }
   },
   "outputs": [],
   "source": [
    "# Convert the start and end time strings into datetimes\n",
    "startT_dt = dt.strptime(startT,'%Y%m%d_%H%M%S')\n",
    "endT_dt = dt.strptime(endT,'%Y%m%d_%H%M%S')\n",
    "\n",
    "## HCR ##\n",
    "# Find indices of the time variable most closely matching startT_dt and endT_dt\n",
    "hcr_tMatchStrt = min(hcr_time1d_rnd, key=lambda x: abs(pd.to_datetime(x) - startT_dt))\n",
    "hcr_startT_ix = np.squeeze(np.where(hcr_time1d_rnd == hcr_tMatchStrt))[0] # If multiple matches, just use the first one (earliest)\n",
    "hcr_tMatchEnd = min(hcr_time1d_rnd, key=lambda x: abs(pd.to_datetime(x) - endT_dt))\n",
    "hcr_endT_ix = np.squeeze(np.where(hcr_time1d_rnd == hcr_tMatchEnd))[-1] # If multiple matches, just use the last one (latest)\n",
    "\n",
    "# Get the actual start/end datetimes (from the time variable, not the user-defined start/end)\n",
    "hcr_strtDT_rnd = pd.to_datetime(hcr_time1d_rnd[hcr_startT_ix])\n",
    "hcr_endDT_rnd = pd.to_datetime(hcr_time1d_rnd[hcr_endT_ix])\n",
    "\n",
    "\n",
    "## HSRL ##\n",
    "# Find indices of the time variable most closely matching startT_dt and endT_dt\n",
    "hsrl_tMatchStrt = min(hsrl_time1d, key=lambda x: abs(x - startT_dt))\n",
    "hsrl_startT_ix = np.squeeze(np.where(hsrl_time1d == hsrl_tMatchStrt))\n",
    "hsrl_tMatchEnd = min(hsrl_time1d, key=lambda x: abs(x - endT_dt))\n",
    "hsrl_endT_ix = np.squeeze(np.where(hsrl_time1d == hsrl_tMatchEnd))\n",
    "\n",
    "# Get the actual start/end datetimes (from the time variable, not the user-defined start/end)\n",
    "hsrl_strtDT_rnd = hsrl_time1d[hsrl_startT_ix]\n",
    "hsrl_endDT_rnd = hsrl_time1d[hsrl_endT_ix]\n",
    "\n",
    "# Check to see if our final start and end times match between HCR and HSRL\n",
    "if (hsrl_endDT_rnd == hcr_endDT_rnd) and (hsrl_strtDT_rnd == hcr_strtDT_rnd):\n",
    "    print('HCR and HSRL start/end times match. Continuing...')\n",
    "else:\n",
    "    print('HCR and HSRL start/end times do not match')\n",
    "    print('startDT:\\n\\tHCR: {}\\n\\tHSRL:{}\\nendDT:\\n\\tHCR: {}\\n\\tHSRL:{}'.format(dt.strftime(hcr_strtDT_rnd,'%Y%m%d %H:%M:%S'),\n",
    "                                                                               dt.strftime(hsrl_strtDT_rnd,'%Y%m%d %H:%M:%S'),\n",
    "                                                                               dt.strftime(hcr_endDT_rnd,'%Y%m%d %H:%M:%S'),\n",
    "                                                                               dt.strftime(hsrl_endDT_rnd,'%Y%m%d %H:%M:%S')))"
   ]
  },
  {
   "cell_type": "markdown",
   "metadata": {
    "ExecuteTime": {
     "end_time": "2018-01-18T21:55:25.821900",
     "start_time": "2018-01-18T21:55:25.796621"
    },
    "collapsed": false,
    "run_control": {
     "frozen": false,
     "read_only": false
    }
   },
   "source": [
    "## Create plots"
   ]
  },
  {
   "cell_type": "code",
   "execution_count": null,
   "metadata": {
    "ExecuteTime": {
     "end_time": "2018-01-31T17:29:34.720766",
     "start_time": "2018-01-31T17:28:40.975493"
    },
    "collapsed": false,
    "run_control": {
     "frozen": false,
     "read_only": false
    },
    "scrolled": false
   },
   "outputs": [],
   "source": [
    "print('{}    Starting plot creation...'.format(dt.strftime(dt.now(),'%y/%m/%d %H:%M:%S')))\n",
    "\n",
    "# Initialize the plotting frame start and end times\n",
    "#    If we've made it here, the HCR and HSRL times match, so just arbitrarily use HCR times\n",
    "tmpStrtDT = hcr_strtDT_rnd\n",
    "tmpEndDT = hcr_strtDT_rnd + tDelta\n",
    "\n",
    "# Loop through our data until the end time of a given plotting frame exceeds the\n",
    "#   end time defined by the user\n",
    "#   **The extra minute timedelta is a fudge factor needed due to a currently unidentified bug\n",
    "while tmpEndDT <= (hcr_endDT_rnd + datetime.timedelta(minutes=1)):\n",
    "    \n",
    "    # Define plot title and filename strings depending on the time range of the plot,\n",
    "    #    and whether the plot frame spans two days (i.e., don't print the date twice, \n",
    "    #    if it doesn't actually change)\n",
    "    if tmpStrtDT.day == tmpEndDT.day:\n",
    "        titleDTstr = '{} - {}-{}'.format(dt.strftime(tmpStrtDT,'%Y%m%d'),dt.strftime(tmpStrtDT,'%H:%M:%S'),\n",
    "                                         dt.strftime(tmpEndDT,'%H:%M:%S'))\n",
    "        if tDelta <= datetime.timedelta(minutes=5):\n",
    "            saveDTstr = '{}_{}-{}'.format(dt.strftime(tmpStrtDT,'%Y%m%d'),dt.strftime(tmpStrtDT,'%H%M%S'),\n",
    "                                             dt.strftime(tmpEndDT,'%H%M%S'))\n",
    "        else:\n",
    "            saveDTstr = '{}_{}-{}'.format(dt.strftime(tmpStrtDT,'%Y%m%d'),dt.strftime(tmpStrtDT,'%H%M'),\n",
    "                                             dt.strftime(tmpEndDT,'%H%M'))\n",
    "    else:\n",
    "        titleDTstr = '{}-{} - {}-{}'.format(dt.strftime(tmpStrtDT,'%Y%m%d'),dt.strftime(tmpStrtDT,'%H:%M:%S'),\n",
    "                                         dt.strftime(tmpEndDT,'%Y%m%d'),dt.strftime(tmpEndDT,'%H:%M:%S'))\n",
    "        if tDelta <= datetime.timedelta(minutes=5):\n",
    "            saveDTstr = '{}_{}-{}_{}'.format(dt.strftime(tmpStrtDT,'%Y%m%d'),dt.strftime(tmpStrtDT,'%H%M'),\n",
    "                                             dt.strftime(tmpEndDT,'%Y%m%d'),dt.strftime(tmpEndDT,'%H%M%S'))\n",
    "        else:\n",
    "            saveDTstr = '{}_{}-{}_{}'.format(dt.strftime(tmpStrtDT,'%Y%m%d'),dt.strftime(tmpStrtDT,'%H%M'),\n",
    "                                             dt.strftime(tmpEndDT,'%Y%m%d'),dt.strftime(tmpEndDT,'%H%M'))\n",
    "    \n",
    "    print('\\tPlotting {}'.format(titleDTstr))\n",
    "    \n",
    "    # If our plotting period is longer than 5 minutes, don't show seconds in the xtick labels\n",
    "    if tDelta <= datetime.timedelta(minutes=5):\n",
    "        xtick_formatter = mdates.DateFormatter(fmt='%H:%M:%S')\n",
    "    else:\n",
    "        xtick_formatter = mdates.DateFormatter(fmt='%H:%M')\n",
    "    \n",
    "    \n",
    "    # Find start and end indices most closely matching current plotting frame bounds\n",
    "    hcr_tMatchStrt = min(hcr_time1d_rnd, key=lambda x: abs(pd.to_datetime(x) - tmpStrtDT))\n",
    "    hcr_tmpStIx = np.squeeze(np.where(hcr_time1d_rnd == hcr_tMatchStrt))[0]\n",
    "    hcr_tMatchEnd = min(hcr_time1d_rnd, key=lambda x: abs(pd.to_datetime(x) - tmpEndDT))\n",
    "    hcr_tmpEndIx = np.squeeze(np.where(hcr_time1d_rnd == hcr_tMatchEnd))[-1]\n",
    "    \n",
    "    hsrl_tMatchStrt = min(hsrl_time1d, key=lambda x: abs(x - tmpStrtDT))\n",
    "    hsrl_tmpStIx = np.squeeze(np.where(hsrl_time1d == hsrl_tMatchStrt))\n",
    "    hsrl_tMatchEnd = min(hsrl_time1d, key=lambda x: abs(x - tmpEndDT))\n",
    "    hsrl_tmpEndIx = np.squeeze(np.where(hsrl_time1d == hsrl_tMatchEnd))\n",
    "\n",
    "    \n",
    "    # Initialize figure with 4 subplots, sharing x and y axes\n",
    "    # Figure size should *roughly* yield a 1:1 ratio for the plot dimensions, but this is\n",
    "    #    entirely dependent on aircraft speed at any given time\n",
    "    fig, (ax1, ax2, ax3, ax4) = plt.subplots(4, sharex=True, sharey=True,figsize=(16*(dur/5.),28))\n",
    "    axFsz = 32\n",
    "    caxFsz = 28\n",
    "    ttlFsz = 36\n",
    "    tkFsz = 24\n",
    "    ctkFsz = 20\n",
    "    caxShrnk = 0.9\n",
    "    \n",
    "    # Optionally define strings to append to the title and/or filename for special cases\n",
    "    if fourPanel_variable:\n",
    "        titleAppnd = ' - Seg #' + str(segNum)\n",
    "        saveAppnd = '_Seg' + str(segNum)\n",
    "    else:\n",
    "        titleAppnd = ''\n",
    "        saveAppnd = ''\n",
    "\n",
    "        \n",
    "    # Plot reflectivity and create our figure title\n",
    "    im1 = ax1.pcolormesh(hcr_time2d[hcr_tmpStIx:hcr_tmpEndIx,:],hcr_gateAlt[hcr_tmpStIx:hcr_tmpEndIx,:]/1000,dbz_masked_ncp[hcr_tmpStIx:hcr_tmpEndIx,:],\n",
    "                         vmin=-40,vmax=16,cmap=pyart.graph.cm.LangRainbow12)\n",
    "    ax1.plot(hsrl_time1d[hsrl_tmpStIx:hsrl_tmpEndIx],planeAlt[hsrl_tmpStIx:hsrl_tmpEndIx]/1000,\n",
    "             'k-',linewidth=6)\n",
    "    ax1.set_ylim([0,7])\n",
    "    cax1 = fig.colorbar(im1,ax=ax1,fraction=0.05,shrink=caxShrnk,pad=0.008)\n",
    "    cax1.set_label('Reflectivity (dBZ)',fontsize=caxFsz)\n",
    "    cax1.ax.set_yticklabels(cax1.ax.get_yticklabels(), fontsize=ctkFsz)\n",
    "    ax1.tick_params(axis='both', which='major', labelsize=tkFsz)\n",
    "    ax1.set_title('SOCRATES - {} UTC{}'.format(titleDTstr,titleAppnd),fontsize=ttlFsz) \n",
    "    ax1.grid()\n",
    "\n",
    "\n",
    "    # Plot aerosol backscatter coefficient and label the y-axis\n",
    "    im2 = ax2.pcolormesh(hsrl_time2d[hsrl_tmpStIx:hsrl_tmpEndIx,:],hsrl_gateAlt[hsrl_tmpStIx:hsrl_tmpEndIx,:]/1000,\n",
    "                         hsrl_aerosolBackCoef[hsrl_tmpStIx:hsrl_tmpEndIx,:],\n",
    "                         norm=colors.LogNorm(vmin=1e-8,vmax=1e-4),\n",
    "                         cmap=plt.cm.nipy_spectral)\n",
    "    ax2.plot(hsrl_time1d[hsrl_tmpStIx:hsrl_tmpEndIx],planeAlt[hsrl_tmpStIx:hsrl_tmpEndIx]/1000,\n",
    "             'k-',linewidth=6)\n",
    "    ax2.set_ylim([0,7])\n",
    "    cax2 = fig.colorbar(im2,ax=ax2,fraction=0.05,shrink=caxShrnk,pad=0.008)\n",
    "    cax2.set_label('Aerosol Backscatter Coefficient\\n($m^{-1}sr^{-1}$)',fontsize=caxFsz*0.7)\n",
    "    cax2.ax.set_yticklabels(cax2.ax.get_yticklabels(), fontsize=ctkFsz)\n",
    "    ax2.tick_params(axis='both', which='major', labelsize=tkFsz)\n",
    "    ax2.set_ylabel('Altitude (km)',fontsize=axFsz)\n",
    "    ax2.grid()\n",
    "\n",
    "\n",
    "    # Plot aerosol extinction coefficient\n",
    "    im3 = ax3.pcolormesh(hsrl_time2d[hsrl_tmpStIx:hsrl_tmpEndIx,:],hsrl_gateAlt[hsrl_tmpStIx:hsrl_tmpEndIx,:]/1000,\n",
    "                         hsrl_aerosolExtnctCoef[hsrl_tmpStIx:hsrl_tmpEndIx,:],\n",
    "                         norm=colors.LogNorm(vmin=1e-5,vmax=1e-2),\n",
    "                         cmap=plt.cm.nipy_spectral)\n",
    "    ax3.plot(hsrl_time1d[hsrl_tmpStIx:hsrl_tmpEndIx],planeAlt[hsrl_tmpStIx:hsrl_tmpEndIx]/1000,\n",
    "             'k-',linewidth=6)\n",
    "    ax3.set_ylim([0,7])\n",
    "    cax3 = fig.colorbar(im3,ax=ax3,fraction=0.05,shrink=caxShrnk,pad=0.008)\n",
    "    cax3.ax.set_yticklabels(cax3.ax.get_yticklabels(), fontsize=ctkFsz)\n",
    "    cax3.set_label('Aerosol Extinction Coefficient ($m^{-1}$)',fontsize=caxFsz*.7)\n",
    "    ax3.tick_params(axis='both', which='major', labelsize=tkFsz)\n",
    "    ax3.grid()\n",
    "\n",
    "\n",
    "    # Plot spectral width and label the x-axis (time)\n",
    "    im4 = ax4.pcolormesh(hsrl_time2d[hsrl_tmpStIx:hsrl_tmpEndIx,:],hsrl_gateAlt[hsrl_tmpStIx:hsrl_tmpEndIx,:]/1000,\n",
    "                         hsrl_partDepol[hsrl_tmpStIx:hsrl_tmpEndIx,:],\n",
    "                         vmin=0,vmax=1,\n",
    "                         cmap=pyart.graph.cm.LangRainbow12)\n",
    "    ax4.plot(hsrl_time1d[hsrl_tmpStIx:hsrl_tmpEndIx],planeAlt[hsrl_tmpStIx:hsrl_tmpEndIx]/1000,\n",
    "             'k-',linewidth=6)\n",
    "    cax4 = fig.colorbar(im4,ax=ax4,fraction=0.05,shrink=caxShrnk,pad=0.008)\n",
    "    cax4.set_label('Particle Depolarization',fontsize=caxFsz)\n",
    "    cax4.ax.set_yticklabels(cax4.ax.get_yticklabels(), fontsize=ctkFsz)\n",
    "    ax4.set_xlabel('Time (UTC)',fontsize=axFsz)\n",
    "    ax4.xaxis.set_major_locator(mdates.MinuteLocator())\n",
    "    ax4.xaxis.set_major_formatter(xtick_formatter)\n",
    "    ax4.tick_params(axis='both', which='major', labelsize=tkFsz)\n",
    "    ax4.grid()\n",
    "\n",
    "\n",
    "    # Clean up the date format a bit further and remove extra whitespace between subplots\n",
    "    fig.autofmt_xdate()\n",
    "    fig.subplots_adjust(hspace=0.08)\n",
    "\n",
    "\n",
    "    # Save the output figure\n",
    "    saveStr = '{}HSRL-HCR_{}{}.{}'.format(figSavePath,saveDTstr,saveAppnd,fType)\n",
    "    fig.savefig(saveStr,bbox_inches='tight')\n",
    "\n",
    "    # Set the start and end times for the next plot\n",
    "    tmpStrtDT = tmpEndDT\n",
    "    tmpEndDT += tDelta\n",
    "    \n",
    "print('\\nTotal script run time: {}'.format(dt.now() - scriptStrtT))"
   ]
  }
 ],
 "metadata": {
  "anaconda-cloud": {},
  "kernelspec": {
   "display_name": "Python [conda root]",
   "language": "python",
   "name": "conda-root-py"
  },
  "language_info": {
   "codemirror_mode": {
    "name": "ipython",
    "version": 3
   },
   "file_extension": ".py",
   "mimetype": "text/x-python",
   "name": "python",
   "nbconvert_exporter": "python",
   "pygments_lexer": "ipython3",
   "version": "3.5.2"
  }
 },
 "nbformat": 4,
 "nbformat_minor": 1
}

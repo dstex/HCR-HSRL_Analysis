{
 "cells": [
  {
   "cell_type": "code",
   "execution_count": 8,
   "metadata": {
    "ExecuteTime": {
     "end_time": "2018-02-08T12:33:40.249640",
     "start_time": "2018-02-08T12:33:40.198075"
    },
    "collapsed": false,
    "run_control": {
     "frozen": false,
     "read_only": false
    }
   },
   "outputs": [],
   "source": [
    "# **** plotHCRmoments ****\n",
    "# This script imports and plots radar moments from concatenated versions (_using `concatHCRmoments`_) of the HIAPER Cloud Radar data.\n",
    "# \n",
    "# Typically this script will take ~30 min to plot 15-min 4-panel plots for ~7 hours of flight time (run on an early 2015 MacBook Pro).\n",
    "# \n",
    "# Written by Dan Stechman\n",
    "# University of Illinois at Urbana-Champaign\n",
    "\n",
    "import pyart\n",
    "import pandas as pd\n",
    "import numpy as np\n",
    "from matplotlib import pyplot as plt\n",
    "import warnings\n",
    "warnings.simplefilter(action='ignore', category=FutureWarning)\n",
    "import xarray as xr\n",
    "import datetime\n",
    "import matplotlib.dates as mdates\n",
    "import os\n",
    "import sys\n",
    "import argparse\n",
    "\n",
    "dt = datetime.datetime\n",
    "\n",
    "scriptStrtT = dt.now()\n",
    "\n",
    "warnings.filterwarnings(\"ignore\",category=RuntimeWarning)\n",
    "np.set_printoptions(suppress=True)\n",
    "\n",
    "%matplotlib inline"
   ]
  },
  {
   "cell_type": "code",
   "execution_count": 2,
   "metadata": {
    "ExecuteTime": {
     "end_time": "2018-02-08T12:31:06.353237",
     "start_time": "2018-02-08T12:31:06.332487"
    },
    "collapsed": false,
    "run_control": {
     "frozen": false,
     "read_only": false
    }
   },
   "outputs": [],
   "source": [
    "\n",
    "flight = 'RF02_20180119'\n",
    "\n",
    "duration = 15\n",
    "dur = duration\n",
    "tDelta = datetime.timedelta(minutes=dur)\n",
    "\n",
    "dataPath = '/Users/danstechman/Desktop/'\n",
    "\n",
    "savePath = '/Users/danstechman/Desktop/'\n",
    "saveDir = '{}min_4panel'.format(dur)\n",
    "\n",
    "fType = 'png'\n",
    "\n",
    "titleAppnd = ''\n",
    "saveAppnd = ''\n",
    "\n"
   ]
  },
  {
   "cell_type": "code",
   "execution_count": 7,
   "metadata": {
    "ExecuteTime": {
     "end_time": "2018-02-08T12:32:44.801115",
     "start_time": "2018-02-08T12:32:44.319588"
    },
    "collapsed": false,
    "run_control": {
     "frozen": false,
     "read_only": false
    }
   },
   "outputs": [],
   "source": [
    "fStrtT = dt.now()\n",
    "startT = '20180119_004500'\n",
    "endT = '20180119_020000'\n",
    "\n",
    "hcrFile = dataPath + flight + '/HCR/' + flight + '_concat-HCR-moments.nc'\n",
    "\n",
    "\n",
    "figSavePath = savePath + flight + '/HCR/' + saveDir + '/'\n",
    "os.makedirs(figSavePath,exist_ok=True)\n",
    "\n",
    "\n",
    "hcrData = xr.open_dataset(hcrFile,chunks={'time1d': 500},decode_times=False)"
   ]
  },
  {
   "cell_type": "code",
   "execution_count": 32,
   "metadata": {
    "ExecuteTime": {
     "end_time": "2018-02-08T13:30:00.815778",
     "start_time": "2018-02-08T13:30:00.789730"
    },
    "collapsed": false
   },
   "outputs": [],
   "source": [
    "hcrData.coords['time1d'] = hcrData.time1d.astype('datetime64[ns]')"
   ]
  },
  {
   "cell_type": "code",
   "execution_count": 33,
   "metadata": {
    "ExecuteTime": {
     "end_time": "2018-02-08T13:30:03.391205",
     "start_time": "2018-02-08T13:30:03.330661"
    },
    "collapsed": false
   },
   "outputs": [
    {
     "data": {
      "text/plain": [
       "<xarray.Dataset>\n",
       "Dimensions:    (gateRng: 758, time1d: 247315)\n",
       "Coordinates:\n",
       "  * time1d     (time1d) datetime64[ns] 2018-01-19T00:07:01.790732032 ...\n",
       "  * gateRng    (gateRng) float32 11.4904 30.6771 49.8638 69.0505 88.2372 ...\n",
       "Data variables:\n",
       "    time2d     (time1d, gateRng) float64 1.516e+18 1.516e+18 1.516e+18 ...\n",
       "    gateAlt2d  (time1d, gateRng) float32 7.87058 27.0573 46.244 65.4307 ...\n",
       "    planeAlt   (time1d) float32 -3.61984 -3.6129 -3.60587 -3.59869 -3.70923 ...\n",
       "    DBZ        (time1d, gateRng) float32 nan nan nan nan nan nan nan nan nan ...\n",
       "    VEL        (time1d, gateRng) float32 nan nan nan nan nan nan nan nan nan ...\n",
       "    WIDTH      (time1d, gateRng) float32 nan nan nan nan nan nan nan nan nan ...\n",
       "    LDR        (time1d, gateRng) float32 nan nan nan nan nan nan nan nan nan ...\n",
       "    NCP        (time1d, gateRng) float32 nan nan nan nan nan nan nan nan nan ...\n",
       "    SNRVC      (time1d, gateRng) float32 nan nan nan nan nan nan nan nan nan ...\n",
       "    SNRHX      (time1d, gateRng) float32 nan nan nan nan nan nan nan nan nan ...\n",
       "    DBMVC      (time1d, gateRng) float32 nan nan nan nan nan nan nan nan nan ...\n",
       "    DBMHX      (time1d, gateRng) float32 nan nan nan nan nan nan nan nan nan ...\n",
       "    elevation  (time1d) float32 86.7131 86.7144 86.714 86.7147 86.7169 ...\n",
       "Attributes:\n",
       "    description:  Concatenated HIAPER Cloud Radar data\n",
       "    flight:       RF02_20180119\n",
       "    history:      Created Thu Feb  8 01:25:48 2018 UTC\n",
       "    firstFile:    /Volumes/SOCRATES_1/RF02_20180119/HCR/cfradial/10hz_moments...\n",
       "    lastFile:     /Volumes/SOCRATES_1/RF02_20180119/HCR/cfradial/10hz_moments..."
      ]
     },
     "execution_count": 33,
     "metadata": {},
     "output_type": "execute_result"
    }
   ],
   "source": [
    "hcrData"
   ]
  },
  {
   "cell_type": "code",
   "execution_count": 35,
   "metadata": {
    "ExecuteTime": {
     "end_time": "2018-02-08T13:56:46.399345",
     "start_time": "2018-02-08T13:56:46.317014"
    },
    "collapsed": false
   },
   "outputs": [],
   "source": [
    "tSlice1 = hcrData.sel(time1d=slice('2018-01-19T03:00:00', '2018-01-19T03:15:00'))"
   ]
  },
  {
   "cell_type": "code",
   "execution_count": 34,
   "metadata": {
    "ExecuteTime": {
     "end_time": "2018-02-08T13:56:29.229761",
     "start_time": "2018-02-08T13:56:29.023913"
    },
    "collapsed": false
   },
   "outputs": [
    {
     "data": {
      "text/plain": [
       "<xarray.Dataset>\n",
       "Dimensions:    (gateRng: 758, time1d: 247315)\n",
       "Coordinates:\n",
       "  * time1d     (time1d) datetime64[ns] 2018-01-19T00:07:01.790732032 ...\n",
       "  * gateRng    (gateRng) float32 11.4904 30.6771 49.8638 69.0505 88.2372 ...\n",
       "Data variables:\n",
       "    time2d     (time1d, gateRng) float64 1.516e+18 1.516e+18 1.516e+18 ...\n",
       "    gateAlt2d  (time1d, gateRng) float32 7.87058 27.0573 46.244 65.4307 ...\n",
       "    planeAlt   (time1d) float32 -3.61984 -3.6129 -3.60587 -3.59869 -3.70923 ...\n",
       "    DBZ        (time1d, gateRng) float32 nan nan nan nan nan nan nan nan nan ...\n",
       "    VEL        (time1d, gateRng) float32 nan nan nan nan nan nan nan nan nan ...\n",
       "    WIDTH      (time1d, gateRng) float32 nan nan nan nan nan nan nan nan nan ...\n",
       "    LDR        (time1d, gateRng) float32 nan nan nan nan nan nan nan nan nan ...\n",
       "    NCP        (time1d, gateRng) float32 nan nan nan nan nan nan nan nan nan ...\n",
       "    SNRVC      (time1d, gateRng) float32 nan nan nan nan nan nan nan nan nan ...\n",
       "    SNRHX      (time1d, gateRng) float32 nan nan nan nan nan nan nan nan nan ...\n",
       "    DBMVC      (time1d, gateRng) float32 nan nan nan nan nan nan nan nan nan ...\n",
       "    DBMHX      (time1d, gateRng) float32 nan nan nan nan nan nan nan nan nan ...\n",
       "    elevation  (time1d) float32 86.7131 86.7144 86.714 86.7147 86.7169 ...\n",
       "Attributes:\n",
       "    description:  Concatenated HIAPER Cloud Radar data\n",
       "    flight:       RF02_20180119\n",
       "    history:      Created Thu Feb  8 01:25:48 2018 UTC\n",
       "    firstFile:    /Volumes/SOCRATES_1/RF02_20180119/HCR/cfradial/10hz_moments...\n",
       "    lastFile:     /Volumes/SOCRATES_1/RF02_20180119/HCR/cfradial/10hz_moments..."
      ]
     },
     "execution_count": 34,
     "metadata": {},
     "output_type": "execute_result"
    }
   ],
   "source": [
    "tSlc = tSlice1.where(tSlice1.gateAlt2d < 0 | tSlice1.NCP < 0.2,"
   ]
  },
  {
   "cell_type": "code",
   "execution_count": null,
   "metadata": {
    "ExecuteTime": {
     "end_time": "2018-02-07T11:24:46.642334",
     "start_time": "2018-02-07T11:20:48.240299"
    },
    "collapsed": false,
    "run_control": {
     "frozen": false,
     "read_only": false
    }
   },
   "outputs": [],
   "source": [
    "time1d = np.asarray(hcrData['time1d'].data,dtype='datetime64[ns]')\n",
    "time1d_rnd = (pd.to_datetime(time1d)).round('1s').values\n",
    "time2d = np.asarray(hcrData['time2d'].data,dtype='datetime64[ns]')\n",
    "gateAlt = hcrData['gateAlt2d'].data\n",
    "elev = hcrData['elevation'].data\n",
    "\n",
    "planeAlt = hcrData['planeAlt'].data\n",
    "\n",
    "# Determine the time indices where the HCR is pointing downward\n",
    "radDwnwrd = np.where(elev < 0.0)\n",
    "\n",
    "dbz = hcrData['DBZ'].data\n",
    "vel = hcrData['VEL'].data\n",
    "width = hcrData['WIDTH'].data\n",
    "ldr = hcrData['LDR'].data\n",
    "ncp = hcrData['NCP'].data\n",
    "snrhx = hcrData['SNRHX'].data\n",
    "dbmhx = hcrData['DBMHX'].data\n",
    "\n",
    "# Adjust radial velocities so negative values are always downward\n",
    "vel[radDwnwrd,:] *= -1\n",
    "\n",
    "\n",
    "# **** Mask Variables ****\n",
    "# Mask variables to be plotted based on a number of (adjustable) criteria.\n",
    "print('{}    Masking radar moments...\\n'.format(dt.strftime(dt.now(),'%m/%d/%Y %H:%M:%S')))\n",
    "dbz_masked_ncp = np.ma.masked_where((ncp < 0.2)|(gateAlt < 0)|np.isinf(dbz)|np.isnan(dbz),dbz)\n",
    "vel_masked_ncp = np.ma.masked_where((ncp < 0.2)|(gateAlt < 0)|np.isinf(vel)|np.isnan(vel),vel)\n",
    "width_masked_ncp = np.ma.masked_where((ncp < 0.2)|(gateAlt < 0)|np.isinf(width)|np.isnan(width),width)\n",
    "#     ldr_masked_dbmhx = np.ma.masked_where((dbmhx < -101.0)|(gateAlt < 0)|np.isinf(ldr)|np.isnan(ldr),ldr)\n",
    "ldr_masked_snrhx = np.ma.masked_where((ncp < 0.2)|(snrhx < -6.0)|(gateAlt < 0)|np.isinf(ldr)|np.isnan(ldr),ldr)\n",
    "\n",
    "\n",
    "# **** Data Index ID ****\n",
    "# Determine which data indices will provide data between the user-defined start and end times\n",
    "# Convert the start and end time strings into datetimes\n",
    "startT_dt = dt.strptime(startT,'%Y%m%d_%H%M%S')\n",
    "endT_dt = dt.strptime(endT,'%Y%m%d_%H%M%S')\n",
    "\n",
    "# Find indices of the time variable most closely matching startT_dt and endT_dt\n",
    "tMatchStrt = min(time1d_rnd, key=lambda x: abs(pd.to_datetime(x) - startT_dt))\n",
    "startT_ix = np.squeeze(np.where(time1d_rnd == tMatchStrt))[0] # If multiple matches, just use the first one (earliest)\n",
    "tMatchEnd = min(time1d_rnd, key=lambda x: abs(pd.to_datetime(x) - endT_dt))\n",
    "endT_ix = np.squeeze(np.where(time1d_rnd == tMatchEnd))[-1] # If multiple matches, just use the last one (latest)\n",
    "\n",
    "# Get the actual start/end datetimes (from the time variable, not the user-defined start/end)\n",
    "strtDT_rnd = pd.to_datetime(time1d_rnd[startT_ix])\n",
    "endDT_rnd = pd.to_datetime(time1d_rnd[endT_ix])\n",
    "\n",
    "\n",
    "# **** Create plots ****\n",
    "print('{}    Starting index discovery...\\n'.format(dt.strftime(dt.now(),'%m/%d/%Y %H:%M:%S')))\n",
    "\n",
    "\n",
    "\n",
    "\n",
    "# Initialize the plotting frame start and end times\n",
    "stIx = []\n",
    "endIx = []\n",
    "tmpStrtDT = strtDT_rnd\n",
    "tmpEndDT = strtDT_rnd + tDelta\n",
    "\n",
    "while tmpEndDT <= (endDT_rnd + datetime.timedelta(minutes=1)):\n",
    "    print('startT: {}'.format(dt.strftime(tmpStrtDT,'%H:%M:%S')))\n",
    "    # Find start and end indices most closely matching current plotting frame bounds\n",
    "    tMatchStrt = min(time1d_rnd, key=lambda x: abs(pd.to_datetime(x) - tmpStrtDT))\n",
    "    stIx = np.append(np.squeeze(np.where(time1d_rnd == tMatchStrt))[0],stIx)\n",
    "    tMatchEnd = min(time1d_rnd, key=lambda x: abs(pd.to_datetime(x) - tmpEndDT))\n",
    "    endIx = np.append(np.squeeze(np.where(time1d_rnd == tMatchEnd))[-1],endIx)\n",
    "\n",
    "    # Set the start and end times for the next plot\n",
    "    tmpStrtDT = tmpEndDT\n",
    "    tmpEndDT += tDelta\n",
    "\n",
    "stIx = sorted([np.int(i) for i in stIx])\n",
    "endIx = sorted([np.int(i) for i in endIx])"
   ]
  },
  {
   "cell_type": "code",
   "execution_count": null,
   "metadata": {
    "ExecuteTime": {
     "end_time": "2018-02-07T11:27:51.873984",
     "start_time": "2018-02-07T11:24:46.646083"
    },
    "collapsed": false,
    "run_control": {
     "frozen": false,
     "read_only": false
    }
   },
   "outputs": [],
   "source": [
    "# **** Create plots ****\n",
    "print('{}    Starting plot creation...'.format(dt.strftime(dt.now(),'%m/%d/%Y %H:%M:%S')))\n",
    "# Loop through our data until the end time of a given plotting frame exceeds the\n",
    "#   end time defined by the user\n",
    "#   **The extra minute timedelta is a fudge factor needed due to a currently unidentified bug\n",
    "for ix in np.arange(0,len(stIx)):\n",
    "    tmpStrtDT = pd.to_datetime(time1d_rnd[stIx[ix]])\n",
    "    tmpEndDT = pd.to_datetime(time1d_rnd[endIx[ix]])\n",
    "    # Define plot title and filename strings depending on the time range of the plot,\n",
    "    #    and whether the plot frame spans two days (i.e., don't print the date twice, \n",
    "    #    if it doesn't actually change)\n",
    "    if tmpStrtDT.day == tmpEndDT.day:\n",
    "        titleDTstr = '{} - {}-{}'.format(dt.strftime(tmpStrtDT,'%Y%m%d'),dt.strftime(tmpStrtDT,'%H:%M:%S'),\n",
    "                                         dt.strftime(tmpEndDT,'%H:%M:%S'))\n",
    "        if tDelta <= datetime.timedelta(minutes=5):\n",
    "            saveDTstr = '{}_{}-{}'.format(dt.strftime(tmpStrtDT,'%Y%m%d'),dt.strftime(tmpStrtDT,'%H%M%S'),\n",
    "                                             dt.strftime(tmpEndDT,'%H%M%S'))\n",
    "        else:\n",
    "            saveDTstr = '{}_{}-{}'.format(dt.strftime(tmpStrtDT,'%Y%m%d'),dt.strftime(tmpStrtDT,'%H%M'),\n",
    "                                             dt.strftime(tmpEndDT,'%H%M'))\n",
    "    else:\n",
    "        titleDTstr = '{}-{} - {}-{}'.format(dt.strftime(tmpStrtDT,'%Y%m%d'),dt.strftime(tmpStrtDT,'%H:%M:%S'),\n",
    "                                         dt.strftime(tmpEndDT,'%Y%m%d'),dt.strftime(tmpEndDT,'%H:%M:%S'))\n",
    "        if tDelta <= datetime.timedelta(minutes=5):\n",
    "            saveDTstr = '{}_{}-{}_{}'.format(dt.strftime(tmpStrtDT,'%Y%m%d'),dt.strftime(tmpStrtDT,'%H%M'),\n",
    "                                             dt.strftime(tmpEndDT,'%Y%m%d'),dt.strftime(tmpEndDT,'%H%M%S'))\n",
    "        else:\n",
    "            saveDTstr = '{}_{}-{}_{}'.format(dt.strftime(tmpStrtDT,'%Y%m%d'),dt.strftime(tmpStrtDT,'%H%M'),\n",
    "                                             dt.strftime(tmpEndDT,'%Y%m%d'),dt.strftime(tmpEndDT,'%H%M'))\n",
    "\n",
    "    print('\\tPlotting {}'.format(titleDTstr))\n",
    "\n",
    "    # If our plotting period is longer than 5 minutes, don't show seconds in the xtick labels\n",
    "    if tDelta <= datetime.timedelta(minutes=5):\n",
    "        xtick_formatter = mdates.DateFormatter(fmt='%H:%M:%S')\n",
    "    else:\n",
    "        xtick_formatter = mdates.DateFormatter(fmt='%H:%M')\n",
    "\n",
    "\n",
    "    # Find start and end indices most closely matching current plotting frame bounds\n",
    "    tmpStIx = stIx[ix]\n",
    "    tmpEndIx = endIx[ix]\n",
    "\n",
    "\n",
    "    # Initialize figure with 4 subplots, sharing x and y axes\n",
    "    # Figure size should *roughly* yield a 1:1 ratio for the plot dimensions, but this is\n",
    "    #    entirely dependent on aircraft speed at any given time\n",
    "    fig, (ax1, ax2, ax3, ax4) = plt.subplots(4, sharex=True, sharey=True,figsize=(16*(dur/5.),28))\n",
    "    axFsz = 32\n",
    "    caxFsz = 28\n",
    "    ttlFsz = 36\n",
    "    tkFsz = 24\n",
    "    ctkFsz = 20\n",
    "    caxShrnk = 0.9\n",
    "\n",
    "\n",
    "    # Plot reflectivity and create our figure title\n",
    "    im1 = ax1.pcolormesh(time2d[tmpStIx:tmpEndIx,:],gateAlt[tmpStIx:tmpEndIx,:]/1000,dbz_masked_ncp[tmpStIx:tmpEndIx,:],\n",
    "                         vmin=-40,vmax=16,cmap=pyart.graph.cm.LangRainbow12)\n",
    "    ax1.plot(time2d[tmpStIx:tmpEndIx,:],planeAlt[tmpStIx:tmpEndIx]/1000,\n",
    "             'k-',linewidth=6)\n",
    "    ax1.set_ylim([0,7])\n",
    "    cax1 = fig.colorbar(im1,ax=ax1,fraction=0.05,shrink=caxShrnk,pad=0.008)\n",
    "    cax1.set_label('Reflectivity (dBZ)',fontsize=caxFsz)\n",
    "    cax1.ax.set_yticklabels(cax1.ax.get_yticklabels(), fontsize=ctkFsz)\n",
    "    ax1.tick_params(axis='both', which='major', labelsize=tkFsz)\n",
    "    ax1.set_title('SOCRATES - {} UTC{}'.format(titleDTstr,titleAppnd),fontsize=ttlFsz) \n",
    "    ax1.grid()\n",
    "\n",
    "\n",
    "    # Plot radial velocity and label the y-axis\n",
    "    im2 = ax2.pcolormesh(time2d[tmpStIx:tmpEndIx,:],gateAlt[tmpStIx:tmpEndIx,:]/1000,vel_masked_ncp[tmpStIx:tmpEndIx,:],\n",
    "                         vmin=-5,vmax=5,cmap=pyart.graph.cm.Wild25_r)\n",
    "    ax2.plot(time2d[tmpStIx:tmpEndIx,:],planeAlt[tmpStIx:tmpEndIx]/1000,\n",
    "             'k-',linewidth=6)\n",
    "    ax2.set_ylim([0,7])\n",
    "    cax2 = fig.colorbar(im2,ax=ax2,fraction=0.05,shrink=caxShrnk,pad=0.008)\n",
    "    cax2.set_label('Radial Velocity (m/s)',fontsize=caxFsz)\n",
    "    cax2.ax.set_yticklabels(cax2.ax.get_yticklabels(), fontsize=ctkFsz)\n",
    "    ax2.tick_params(axis='both', which='major', labelsize=tkFsz)\n",
    "    ax2.set_ylabel('Altitude (km)',fontsize=axFsz)\n",
    "    ax2.grid()\n",
    "\n",
    "\n",
    "    # Plot LDR\n",
    "    im3 = ax3.pcolormesh(time2d[tmpStIx:tmpEndIx,:],gateAlt[tmpStIx:tmpEndIx,:]/1000,ldr_masked_snrhx[tmpStIx:tmpEndIx,:],\n",
    "                         vmin=-40,vmax=0,cmap=pyart.graph.cm.NWSRef)\n",
    "    ax3.plot(time2d[tmpStIx:tmpEndIx,:],planeAlt[tmpStIx:tmpEndIx]/1000,\n",
    "             'k-',linewidth=6)\n",
    "    ax3.set_ylim([0,7])\n",
    "    cax3 = fig.colorbar(im3,ax=ax3,fraction=0.05,shrink=caxShrnk,pad=0.008)\n",
    "    cax3.ax.set_yticklabels(cax3.ax.get_yticklabels(), fontsize=ctkFsz)\n",
    "    cax3.set_label('LDR (dB)',fontsize=caxFsz)\n",
    "    ax3.tick_params(axis='both', which='major', labelsize=tkFsz)\n",
    "    ax3.grid()\n",
    "\n",
    "\n",
    "    # Plot spectral width and label the x-axis (time)\n",
    "    im4 = ax4.pcolormesh(time2d[tmpStIx:tmpEndIx,:],gateAlt[tmpStIx:tmpEndIx,:]/1000,width_masked_ncp[tmpStIx:tmpEndIx,:],\n",
    "                         vmin=0,vmax=3,cmap=pyart.graph.cm.RefDiff)\n",
    "    ax4.plot(time2d[tmpStIx:tmpEndIx,:],planeAlt[tmpStIx:tmpEndIx]/1000,\n",
    "             'k-',linewidth=6)\n",
    "    cax4 = fig.colorbar(im4,ax=ax4,fraction=0.05,shrink=caxShrnk,pad=0.008)\n",
    "    cax4.set_label('Spectral Width (m/s)',fontsize=caxFsz,)\n",
    "    cax4.ax.set_yticklabels(cax4.ax.get_yticklabels(), fontsize=ctkFsz)\n",
    "    ax4.set_xlabel('Time (UTC)',fontsize=axFsz)\n",
    "    ax4.xaxis.set_major_locator(mdates.MinuteLocator())\n",
    "    ax4.xaxis.set_major_formatter(xtick_formatter)\n",
    "    ax4.tick_params(axis='both', which='major', labelsize=tkFsz)\n",
    "    ax4.grid()\n",
    "\n",
    "\n",
    "    # Clean up the date format a bit further and remove extra whitespace between subplots\n",
    "    fig.autofmt_xdate()\n",
    "    fig.subplots_adjust(hspace=0.08)\n",
    "\n",
    "\n",
    "    # Save the output figure\n",
    "    saveStr = '{}HCR-moments_{}{}.{}'.format(figSavePath,saveDTstr,saveAppnd,fType)\n",
    "    fig.savefig(saveStr,bbox_inches='tight')\n",
    "\n",
    "\n",
    "\n",
    "\n",
    "hcrData.close()\n",
    "print('\\n\\tPlotting time for {}: {}\\n'.format(flight, dt.now() - fStrtT))\n",
    "\n",
    "print('Plotting complete.\\n\\tTotal script time: {}'.format(dt.now() - scriptStrtT))"
   ]
  }
 ],
 "metadata": {
  "anaconda-cloud": {},
  "kernelspec": {
   "display_name": "Python [conda root]",
   "language": "python",
   "name": "conda-root-py"
  },
  "language_info": {
   "codemirror_mode": {
    "name": "ipython",
    "version": 3
   },
   "file_extension": ".py",
   "mimetype": "text/x-python",
   "name": "python",
   "nbconvert_exporter": "python",
   "pygments_lexer": "ipython3",
   "version": "3.5.2"
  }
 },
 "nbformat": 4,
 "nbformat_minor": 1
}

{
 "cells": [
  {
   "cell_type": "code",
   "execution_count": 1,
   "metadata": {
    "ExecuteTime": {
     "end_time": "2018-01-23T06:51:41.506437",
     "start_time": "2018-01-23T06:51:39.913752"
    },
    "collapsed": false,
    "run_control": {
     "frozen": false,
     "read_only": false
    }
   },
   "outputs": [
    {
     "name": "stderr",
     "output_type": "stream",
     "text": [
      "/Users/danstechman/anaconda/lib/python3.5/site-packages/xarray/core/formatting.py:16: FutureWarning: The pandas.tslib module is deprecated and will be removed in a future version.\n",
      "  from pandas.tslib import OutOfBoundsDatetime\n"
     ]
    }
   ],
   "source": [
    "from netCDF4 import Dataset\n",
    "import numpy as np\n",
    "import xarray as xr\n",
    "from glob import glob\n",
    "import time\n",
    "import warnings\n",
    "import datetime\n",
    "import pandas as pd\n",
    "\n",
    "warnings.filterwarnings(\"ignore\",category=RuntimeWarning)"
   ]
  },
  {
   "cell_type": "markdown",
   "metadata": {
    "run_control": {
     "frozen": false,
     "read_only": false
    }
   },
   "source": [
    "## Plot Settings\n",
    "This is where the most commonly modified settings reside (i.e., flight, plot start/end times, data location, save path and file type, etc.)"
   ]
  },
  {
   "cell_type": "code",
   "execution_count": 2,
   "metadata": {
    "ExecuteTime": {
     "end_time": "2018-01-23T06:51:42.447865",
     "start_time": "2018-01-23T06:51:41.509178"
    },
    "collapsed": false,
    "run_control": {
     "frozen": false,
     "read_only": false
    }
   },
   "outputs": [],
   "source": [
    "flight = 'RF01_20180116'\n",
    "\n",
    "# Specify start and end times to include in concatenated dataset\n",
    "#    Set startT to 'beg' to use the first file in the whole flight directory\n",
    "#    Set endT to 'end' to use the last file in the whole flight directory\n",
    "# startT = '20180119_004500'\n",
    "# endT = '20180119_011500'\n",
    "startT = 'beg'\n",
    "endT = 'end'\n",
    "\n",
    "files = sorted(glob('/Volumes/SOCRATES_1/HCR/cfradial/moments/10hz/' + flight + '/cfrad.*HCR*.nc'))\n",
    "outFileName = '/Volumes/SOCRATES_1/HCR/cfradial/moments/' + flight + '_concat-HCR-moments.nc'\n",
    "\n",
    "# The value 12 here may change. Should equal number of negative values at start of range variable (could automate this...)\n",
    "rGateStrt = 12"
   ]
  },
  {
   "cell_type": "markdown",
   "metadata": {
    "run_control": {
     "frozen": false,
     "read_only": false
    }
   },
   "source": [
    "## Data File ID\n",
    "Determine which data files will provide data between the user-defined start and end times"
   ]
  },
  {
   "cell_type": "code",
   "execution_count": 3,
   "metadata": {
    "ExecuteTime": {
     "end_time": "2018-01-23T06:51:42.494511",
     "start_time": "2018-01-23T06:51:42.450062"
    },
    "collapsed": false,
    "run_control": {
     "frozen": false,
     "read_only": false
    }
   },
   "outputs": [],
   "source": [
    "if startT == 'beg':\n",
    "    strtFIx = 0\n",
    "else:\n",
    "    # Search strings designed to grab cfradial files with the desired times\n",
    "    strtStr = '.' + startT\n",
    "    \n",
    "    # Get the index of the first occurence of cfradial file in the data directory \n",
    "    #    containing the start string\n",
    "    strtFIx = ([ix for ix, f in enumerate(files) if strtStr in f])[0]\n",
    "    \n",
    "        \n",
    "if endT == 'end':\n",
    "    endFIx = len(files)-1\n",
    "else:\n",
    "    # Search strings designed to grab cfradial files with the desired times\n",
    "    endStr = 'to_' + endT\n",
    "    \n",
    "    # Get the index of the first occurence of cfradial file in the data directory \n",
    "    #    containing the start string\n",
    "    endFIx = ([ix for ix, f in enumerate(files) if endStr in f])[0]\n",
    "    \n",
    "\n",
    "\n",
    "# Create an array of file indices (from our file listing) to loop over\n",
    "# rFileIx = np.arange(210,220)\n",
    "# rFileIx = np.arange(0,len(files))\n",
    "rFileIx = np.arange(strtFIx,endFIx)\n"
   ]
  },
  {
   "cell_type": "code",
   "execution_count": 4,
   "metadata": {
    "ExecuteTime": {
     "end_time": "2018-01-23T06:52:51.908087",
     "start_time": "2018-01-23T06:51:42.497822"
    },
    "collapsed": false,
    "run_control": {
     "frozen": false,
     "read_only": false
    }
   },
   "outputs": [
    {
     "name": "stdout",
     "output_type": "stream",
     "text": [
      "267822\n",
      "758\n"
     ]
    }
   ],
   "source": [
    "totalTime = 0;\n",
    "for rFile in rFileIx:\n",
    "    radData = xr.open_dataset(files[rFile])\n",
    "    totalTime += radData.dims['time']\n",
    "totalRng = radData.dims['range'] - rGateStrt\n",
    "\n",
    "print(totalTime)\n",
    "print(totalRng)"
   ]
  },
  {
   "cell_type": "code",
   "execution_count": 5,
   "metadata": {
    "ExecuteTime": {
     "end_time": "2018-01-23T06:52:51.928183",
     "start_time": "2018-01-23T06:52:51.910037"
    },
    "collapsed": false,
    "run_control": {
     "frozen": false,
     "read_only": false
    }
   },
   "outputs": [],
   "source": [
    "time1d_all = np.zeros((totalTime,),dtype='datetime64[ns]')\n",
    "radElev_all = np.zeros((totalTime,))\n",
    "\n",
    "alt_all = np.zeros((totalTime,totalRng))\n",
    "time_all = np.zeros((totalTime,totalRng),dtype='datetime64[ns]')\n",
    "dbz_all = np.zeros((totalTime,totalRng))\n",
    "vel_all = np.zeros((totalTime,totalRng))\n",
    "width_all = np.zeros((totalTime,totalRng))\n",
    "snr_all = np.zeros((totalTime,totalRng))\n",
    "dbm_all = np.zeros((totalTime,totalRng))\n",
    "ncp_all = np.zeros((totalTime,totalRng))\n",
    "ldr_all = np.zeros((totalTime,totalRng))"
   ]
  },
  {
   "cell_type": "markdown",
   "metadata": {
    "run_control": {
     "frozen": false,
     "read_only": false
    }
   },
   "source": [
    "## Concatenate Variables Across All Files\n",
    "Loop through the files covering the requested time period and create numpy arrays containing all of the data in this range.\n",
    "\n",
    "Also, create modified time and altitude arrays which need to be 2-dimensional for plotting.\n",
    "<br>The altitude array is also modified using the gate range from the aircraft to yield ground-relative altitudes for each gate."
   ]
  },
  {
   "cell_type": "code",
   "execution_count": 6,
   "metadata": {
    "ExecuteTime": {
     "end_time": "2018-01-23T06:55:10.829864",
     "start_time": "2018-01-23T06:52:51.931278"
    },
    "collapsed": false,
    "run_control": {
     "frozen": false,
     "read_only": false
    }
   },
   "outputs": [],
   "source": [
    "strtIx = 0\n",
    "for rFile in rFileIx:\n",
    "    # Open the current radar data file\n",
    "    radData = xr.open_dataset(files[rFile])\n",
    "    \n",
    "    # Get length of time dimension of current file\n",
    "    endIx = radData.dims['time'] + strtIx\n",
    "        \n",
    "    # Pull out the dimension variables\n",
    "    gateRange_1d = radData['range'].data[rGateStrt:]\n",
    "    alt_1d = radData['altitude'].data\n",
    "    time_1d = radData['time'].data\n",
    "    \n",
    "    radElev_1d = radData.elevation.data\n",
    "    \n",
    "    # HCR elevation angle is positive when pointing upward\n",
    "    # Adjust the gateRange variable if this is the case to properly initialize\n",
    "    #    the ground-relative altitude array\n",
    "    if np.all(radElev_1d > 0):\n",
    "        gateRange_1d *= -1\n",
    "    \n",
    "    # Create arrays of gateRange and gate altitude matching dimensions of 2-D variables\n",
    "    gateRange_2d = np.transpose(np.tile(gateRange_1d,(len(time_1d),1)))\n",
    "    time_2d = np.tile(time_1d,(len(gateRange_1d),1))\n",
    "    alt_2d = np.tile(alt_1d,(len(gateRange_1d),1))\n",
    "\n",
    "    \n",
    "    # Create altitude array indicating the ground-relative altitude MSL of each gate\n",
    "    alt_all[strtIx:endIx,:] = np.transpose(alt_2d - gateRange_2d)\n",
    "    time_all[strtIx:endIx,:] = np.transpose(time_2d)\n",
    "    time1d_all[strtIx:endIx] = time_1d[:]\n",
    "    radElev_all[strtIx:endIx] = radElev_1d[:]\n",
    "\n",
    "    dbz_all[strtIx:endIx,:] = radData['DBZ'].data[:,rGateStrt:]\n",
    "    vel_all[strtIx:endIx,:] = radData['VEL'].data[:,rGateStrt:]\n",
    "    width_all[strtIx:endIx,:] = radData['WIDTH'].data[:,rGateStrt:]\n",
    "    snr_all[strtIx:endIx,:] = radData['SNR'].data[:,rGateStrt:]\n",
    "    dbm_all[strtIx:endIx,:] = radData['DBMHX'].data[:,rGateStrt:]\n",
    "    ncp_all[strtIx:endIx,:] = radData['NCP'].data[:,rGateStrt:]\n",
    "    ldr_all[strtIx:endIx,:] = radData['LDR'].data[:,rGateStrt:]\n",
    "        \n",
    "        \n",
    "    strtIx = endIx"
   ]
  },
  {
   "cell_type": "markdown",
   "metadata": {
    "run_control": {
     "frozen": false,
     "read_only": false
    }
   },
   "source": [
    "## Write concatenated data out to NetCDF"
   ]
  },
  {
   "cell_type": "code",
   "execution_count": 7,
   "metadata": {
    "ExecuteTime": {
     "end_time": "2018-01-23T06:55:10.881830",
     "start_time": "2018-01-23T06:55:10.831837"
    },
    "collapsed": false,
    "run_control": {
     "frozen": false,
     "read_only": false
    }
   },
   "outputs": [],
   "source": [
    "## Create the netCDF file and define global/variable attributes\n",
    "rootGrp = Dataset(outFileName,'w',format='NETCDF4')\n",
    "rootGrp.set_fill_on()"
   ]
  },
  {
   "cell_type": "code",
   "execution_count": 8,
   "metadata": {
    "ExecuteTime": {
     "end_time": "2018-01-23T06:55:10.925056",
     "start_time": "2018-01-23T06:55:10.899658"
    },
    "collapsed": false,
    "run_control": {
     "frozen": false,
     "read_only": false
    }
   },
   "outputs": [],
   "source": [
    "gateRng = rootGrp.createDimension('gateRng',totalRng)\n",
    "time1d = rootGrp.createDimension('time1d',totalTime)"
   ]
  },
  {
   "cell_type": "code",
   "execution_count": 9,
   "metadata": {
    "ExecuteTime": {
     "end_time": "2018-01-23T06:56:48.342126",
     "start_time": "2018-01-23T06:55:10.929231"
    },
    "collapsed": false,
    "run_control": {
     "frozen": false,
     "read_only": false
    }
   },
   "outputs": [],
   "source": [
    "TIME = rootGrp.createVariable('time1d','f8',('time1d',))\n",
    "TIME.long_name = 'Timestamp'\n",
    "TIME.units = 'UTC YYYYMMDDTHHMMSS.f'\n",
    "TIME.coordinates = 'time1d'\n",
    "\n",
    "GRNG = rootGrp.createVariable('gateRng','f4',('gateRng',),fill_value=np.nan)\n",
    "GRNG.long_name = 'Distance from radar to center of each range gate'\n",
    "GRNG.units = 'm'\n",
    "GRNG.coordinates = 'gateRng'\n",
    "\n",
    "TIME2D = rootGrp.createVariable('time2d','f8',('time1d','gateRng'))\n",
    "TIME2D.long_name = 'Timestamp for every gate/time'\n",
    "TIME2D.units = 'UTC YYYYMMDDTHHMMSS.f'\n",
    "TIME2D.coordinates = 'time1d gateRng'\n",
    "\n",
    "GALT2D = rootGrp.createVariable('gateAlt2d','f4',('time1d','gateRng'),fill_value=np.nan)\n",
    "GALT2D.long_name = 'Altitude of each gate above MSL'\n",
    "GALT2D.units = 'm'\n",
    "GALT2D.coordinates = 'time1d gateRng'\n",
    "\n",
    "DBZ = rootGrp.createVariable('DBZ','f4',('time1d','gateRng'),fill_value=np.nan)\n",
    "DBZ.long_name = 'reflectivity'\n",
    "DBZ.units = 'dBZ'\n",
    "DBZ.sampling_ratio = 1.000000\n",
    "DBZ.grid_mapping = 'grid_mapping'\n",
    "DBZ.coordinates = 'time1d gateRng'\n",
    "\n",
    "VEL = rootGrp.createVariable('VEL','f4',('time1d','gateRng'),fill_value=np.nan)\n",
    "VEL.long_name = 'doppler_velocity'\n",
    "VEL.units = 'm/s'\n",
    "VEL.sampling_ratio = 1.000000\n",
    "VEL.grid_mapping = 'grid_mapping'\n",
    "VEL.coordinates = 'time1d gateRng'\n",
    "\n",
    "WIDTH = rootGrp.createVariable('WIDTH','f4',('time1d','gateRng'),fill_value=np.nan)\n",
    "WIDTH.long_name = 'spectrum_width'\n",
    "WIDTH.units = 'm/s'\n",
    "WIDTH.sampling_ratio = 1.000000\n",
    "WIDTH.grid_mapping = 'grid_mapping'\n",
    "WIDTH.coordinates = 'time1d gateRng'\n",
    "\n",
    "LDR = rootGrp.createVariable('LDR','f4',('time1d','gateRng'),fill_value=np.nan)\n",
    "LDR.long_name = 'linear_depolarization_ratio'\n",
    "LDR.units = 'dB'\n",
    "LDR.sampling_ratio = 1.000000\n",
    "LDR.grid_mapping = 'grid_mapping'\n",
    "LDR.coordinates = 'time1d gateRng'\n",
    "\n",
    "NCP = rootGrp.createVariable('NCP','f4',('time1d','gateRng'),fill_value=np.nan)\n",
    "NCP.long_name = 'normalized_coherent_power'\n",
    "NCP.units = ''\n",
    "NCP.sampling_ratio = 1.000000\n",
    "NCP.grid_mapping = 'grid_mapping'\n",
    "NCP.coordinates = 'time1d gateRng'\n",
    "\n",
    "SNR = rootGrp.createVariable('SNR','f4',('time1d','gateRng'),fill_value=np.nan)\n",
    "SNR.long_name = 'signal_to_noise_ratio'\n",
    "SNR.units = 'dB'\n",
    "SNR.sampling_ratio = 1.000000\n",
    "SNR.grid_mapping = 'grid_mapping'\n",
    "SNR.coordinates = 'time1d gateRng'\n",
    "\n",
    "RELV = rootGrp.createVariable('elevation','f4',('time1d',),fill_value=np.nan)\n",
    "RELV.long_name = 'Radar beam elevation (positive is upwards [plane-relative])'\n",
    "RELV.units = 'degrees'\n",
    "RELV.coordinates = 'time1d'\n",
    "\n",
    "\n",
    "# Global attributes\n",
    "rootGrp.description = 'Concatenated HIAPER Cloud Radar data'\n",
    "rootGrp.flight = flight\n",
    "rootGrp.history = 'Created ' + time.asctime(time.gmtime()) + ' UTC'\n",
    "rootGrp.firstFile = files[strtFIx]\n",
    "rootGrp.lastFile = files[endFIx]\n",
    "\n",
    "## Write variables to file\n",
    "TIME[:] = time1d_all.astype(np.float64)\n",
    "GRNG[:] = gateRange_1d\n",
    "TIME2D[:] = time_all.astype(np.float64)\n",
    "GALT2D[:] = alt_all\n",
    "DBZ[:] = dbz_all\n",
    "VEL[:] = vel_all\n",
    "WIDTH[:] = width_all\n",
    "LDR[:] = ldr_all\n",
    "NCP[:] = ncp_all\n",
    "SNR[:] = snr_all\n",
    "RELV[:] = radElev_all\n",
    "\n",
    "rootGrp.close()"
   ]
  },
  {
   "cell_type": "code",
   "execution_count": 10,
   "metadata": {
    "ExecuteTime": {
     "end_time": "2018-01-23T06:56:48.366121",
     "start_time": "2018-01-23T06:56:48.348797"
    },
    "collapsed": false,
    "run_control": {
     "frozen": false,
     "read_only": false
    }
   },
   "outputs": [
    {
     "name": "stdout",
     "output_type": "stream",
     "text": [
      "(267822,)\n",
      "(758,)\n",
      "(267822, 758)\n",
      "(267822, 758)\n",
      "(267822, 758)\n",
      "(267822, 758)\n",
      "(267822, 758)\n",
      "(267822, 758)\n",
      "(267822, 758)\n",
      "(267822, 758)\n",
      "(267822,)\n"
     ]
    }
   ],
   "source": [
    "print(time1d_all.shape)\n",
    "print(gateRange_1d.shape)\n",
    "print(time_all.shape)\n",
    "print(alt_all.shape)\n",
    "print(dbz_all.shape)\n",
    "print(vel_all.shape)\n",
    "print(width_all.shape)\n",
    "print(ldr_all.shape)\n",
    "print(ncp_all.shape)\n",
    "print(snr_all.shape)\n",
    "print(radElev_all.shape)"
   ]
  },
  {
   "cell_type": "code",
   "execution_count": 11,
   "metadata": {
    "ExecuteTime": {
     "end_time": "2018-01-23T06:56:48.400700",
     "start_time": "2018-01-23T06:56:48.370015"
    },
    "collapsed": false,
    "run_control": {
     "frozen": false,
     "read_only": false
    }
   },
   "outputs": [
    {
     "data": {
      "text/plain": [
       "numpy.datetime64('2018-01-15T21:51:17.312542000')"
      ]
     },
     "execution_count": 11,
     "metadata": {},
     "output_type": "execute_result"
    }
   ],
   "source": [
    "time1d_all[0]"
   ]
  }
 ],
 "metadata": {
  "anaconda-cloud": {},
  "kernelspec": {
   "display_name": "Python [conda root]",
   "language": "python",
   "name": "conda-root-py"
  },
  "language_info": {
   "codemirror_mode": {
    "name": "ipython",
    "version": 3
   },
   "file_extension": ".py",
   "mimetype": "text/x-python",
   "name": "python",
   "nbconvert_exporter": "python",
   "pygments_lexer": "ipython3",
   "version": "3.5.2"
  }
 },
 "nbformat": 4,
 "nbformat_minor": 1
}

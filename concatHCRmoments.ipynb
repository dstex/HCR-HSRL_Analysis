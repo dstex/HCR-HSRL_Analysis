{
 "cells": [
  {
   "cell_type": "markdown",
   "metadata": {
    "run_control": {
     "frozen": false,
     "read_only": false
    }
   },
   "source": [
    "# concatHCRmoments\n",
    "This script combines multiple CF/Radial output files from the HIAPER Cloud Radar (HCR) into a single output netCDF file. The most comonly required variables for analysis are concatenated into single arrays, and the inclusion of additional variables is easy enough to do if desired.\n",
    "<br><br>\n",
    "Currently this has only been tested with 10hz moments files, though combining the 100hz moments files is not entirely out of the question.\n",
    "<br><br>\n",
    "_Written by Dan Stechman_\n",
    "<br>\n",
    "_University of Illinois at Urbana-Champaign_"
   ]
  },
  {
   "cell_type": "code",
   "execution_count": null,
   "metadata": {
    "ExecuteTime": {
     "end_time": "2018-01-25T15:49:44.116321",
     "start_time": "2018-01-25T15:49:41.706994"
    },
    "collapsed": false,
    "run_control": {
     "frozen": false,
     "read_only": false
    }
   },
   "outputs": [],
   "source": [
    "from netCDF4 import Dataset\n",
    "import numpy as np\n",
    "import xarray as xr\n",
    "from glob import glob\n",
    "import time\n",
    "import warnings\n",
    "from datetime import datetime as dt\n",
    "\n",
    "scriptStrtT = dt.now()\n",
    "\n",
    "warnings.filterwarnings(\"ignore\",category=RuntimeWarning)"
   ]
  },
  {
   "cell_type": "markdown",
   "metadata": {
    "run_control": {
     "frozen": false,
     "read_only": false
    }
   },
   "source": [
    "## User Settings\n",
    "This is where the most commonly modified settings reside (i.e., flight, start/end times, input data path/filenames, output path/filename, etc.)"
   ]
  },
  {
   "cell_type": "code",
   "execution_count": null,
   "metadata": {
    "ExecuteTime": {
     "end_time": "2018-01-25T15:49:45.251230",
     "start_time": "2018-01-25T15:49:44.119295"
    },
    "collapsed": false,
    "run_control": {
     "frozen": false,
     "read_only": false
    }
   },
   "outputs": [],
   "source": [
    "# This variable should match the name of the parent directory containing\n",
    "#    the flight data for the given mission. Used in defining file input \n",
    "#    and output names.\n",
    "flight = 'RF04_20180124'\n",
    "\n",
    "# Specify start and end times to include in concatenated dataset\n",
    "#    startT and endT should be strings of the format 'YYYYmmdd_HHMMSS'\n",
    "#    Otherwise, set startT to 'beg' to use the first file in the whole flight directory\n",
    "#    and/or set endT to 'end' to use the last file in the whole flight directory\n",
    "# startT = '20180123_004500'\n",
    "# endT = '20180123_011500'\n",
    "startT = 'beg'\n",
    "endT = 'end'\n",
    "\n",
    "# Specify the location/name(s) of the input files and the output file\n",
    "files = sorted(glob('/Volumes/SOCRATES_1/' + flight + '/HCR/cfradial/10hz_moments/cfrad.*HCR*.nc'))\n",
    "outFileName = '/Volumes/SOCRATES_1/' + flight + '/HCR/' + flight + '_concat-HCR-moments.nc'\n",
    "\n",
    "# These are the number of gates nearest the aircraft with negative gate range values (we throw these out)\n",
    "#    **I've seen this number vary between projects, but seems consistent so far for SOCRATES at least\n",
    "rGateStrt = 12"
   ]
  },
  {
   "cell_type": "markdown",
   "metadata": {
    "run_control": {
     "frozen": false,
     "read_only": false
    }
   },
   "source": [
    "## Data File ID\n",
    "Determine which data files will provide data between the user-defined start and end times"
   ]
  },
  {
   "cell_type": "code",
   "execution_count": null,
   "metadata": {
    "ExecuteTime": {
     "end_time": "2018-01-25T15:49:45.300956",
     "start_time": "2018-01-25T15:49:45.252866"
    },
    "collapsed": false,
    "run_control": {
     "frozen": false,
     "read_only": false
    }
   },
   "outputs": [],
   "source": [
    "if startT == 'beg':\n",
    "    strtFIx = 0\n",
    "else:\n",
    "    # Search string designed to grab cfradial files with the desired start times\n",
    "    strtStr = '.' + startT\n",
    "    \n",
    "    # Get the index of the first occurence of cfradial file containing the \n",
    "    #     start string in its file name  \n",
    "    strtFIx = ([ix for ix, f in enumerate(files) if strtStr in f])[0]\n",
    "    \n",
    "        \n",
    "if endT == 'end':\n",
    "    endFIx = len(files)-1\n",
    "else:\n",
    "    # Search string designed to grab cfradial files with the desired end times\n",
    "    endStr = 'to_' + endT\n",
    "    \n",
    "    # Get the index of the first occurence of cfradial file containing the \n",
    "    #     end string in its file name\n",
    "    endFIx = ([ix for ix, f in enumerate(files) if endStr in f])[0]\n",
    "    \n",
    "\n",
    "\n",
    "# Create an array of file indices (from our file listing) to loop over\n",
    "# rFileIx = np.arange(210,220)\n",
    "rFileIx = np.arange(strtFIx,endFIx)"
   ]
  },
  {
   "cell_type": "markdown",
   "metadata": {
    "run_control": {
     "frozen": false,
     "read_only": false
    }
   },
   "source": [
    "## Define output variables\n",
    "Loop through all of the input files and add up the total number of points in the time dimension and determine the number of gates (vertical dimension) after removing gates with negative ranges.\n",
    "<br><br>\n",
    "Then, create empty (zero-filled) arrays of the appropriate sizes for out output."
   ]
  },
  {
   "cell_type": "code",
   "execution_count": null,
   "metadata": {
    "ExecuteTime": {
     "end_time": "2018-01-25T15:50:55.445716",
     "start_time": "2018-01-25T15:49:45.303511"
    },
    "collapsed": false,
    "run_control": {
     "frozen": false,
     "read_only": false
    }
   },
   "outputs": [],
   "source": [
    "print('{}    Determining output dimensions...'.format(dt.strftime(dt.now(),'%y/%m/%d %H:%M:%S')))\n",
    "totalTime = 0;\n",
    "for rFile in rFileIx:\n",
    "    radData = xr.open_dataset(files[rFile])\n",
    "    totalTime += radData.dims['time']\n",
    "totalRng = radData.dims['range'] - rGateStrt\n",
    "\n",
    "print('\\tTotal number of points in time dimension: {}'.format(totalTime))\n",
    "print('\\tTotal number of gates (in vertical dimension): {}'.format(totalRng))\n",
    "\n",
    "time1d_all = np.zeros((totalTime,),dtype='datetime64[ns]')\n",
    "radElev_all = np.zeros((totalTime,))\n",
    "alt_all = np.zeros((totalTime,totalRng))\n",
    "time_all = np.zeros((totalTime,totalRng),dtype='datetime64[ns]')\n",
    "dbz_all = np.zeros((totalTime,totalRng))\n",
    "vel_all = np.zeros((totalTime,totalRng))\n",
    "width_all = np.zeros((totalTime,totalRng))\n",
    "snr_all = np.zeros((totalTime,totalRng))\n",
    "dbm_all = np.zeros((totalTime,totalRng))\n",
    "ncp_all = np.zeros((totalTime,totalRng))\n",
    "ldr_all = np.zeros((totalTime,totalRng))"
   ]
  },
  {
   "cell_type": "markdown",
   "metadata": {
    "run_control": {
     "frozen": false,
     "read_only": false
    }
   },
   "source": [
    "## Concatenate Variables Across All Files\n",
    "Loop through the files covering the requested time period and fill out output arrays.\n",
    "<br>\n",
    "Also, create modified time and altitude arrays which need to be 2-dimensional for plotting.\n",
    "<br>\n",
    "> The altitude array is modified using the gate range from the aircraft to yield ground-relative altitudes for each gate."
   ]
  },
  {
   "cell_type": "code",
   "execution_count": null,
   "metadata": {
    "ExecuteTime": {
     "end_time": "2018-01-25T15:52:44.503514",
     "start_time": "2018-01-25T15:52:44.075117"
    },
    "collapsed": false
   },
   "outputs": [],
   "source": [
    "radData = xr.open_dataset(files[rFile])\n",
    "\n",
    "# Get length of time dimension of current file and define the end index\n",
    "#    of the array slice to place data within the output arrays\n",
    "endIx = radData.dims['time'] + strtIx\n",
    "\n",
    "# Pull out the dimension variables\n",
    "gateRange_1d = radData['range'].data[rGateStrt:]\n",
    "alt_1d = radData['altitude'].data\n",
    "time_1d = radData['time'].data\n",
    "\n",
    "# Get the beam elevation angle variable (used to determine upward/downward pointing)\n",
    "radElev_1d = radData.elevation.data\n",
    "\n",
    "# HCR elevation angle is positive when pointing upward\n",
    "# Adjust the gateRange variable if this is the case to properly initialize\n",
    "#    the ground-relative altitude array\n",
    "if np.all(radElev_1d > 0):\n",
    "    gateRange_1d *= -1\n",
    "\n",
    "# Create arrays of gateRange and gate altitude matching dimensions of 2-D variables\n",
    "gateRange_2d = np.transpose(np.tile(gateRange_1d,(len(time_1d),1)))\n",
    "time_2d = np.tile(time_1d,(len(gateRange_1d),1))\n",
    "alt_2d = np.tile(alt_1d,(len(gateRange_1d),1))"
   ]
  },
  {
   "cell_type": "code",
   "execution_count": null,
   "metadata": {
    "ExecuteTime": {
     "end_time": "2018-01-25T15:51:20.104281",
     "start_time": "2018-01-25T15:50:55.448594"
    },
    "collapsed": false,
    "run_control": {
     "frozen": false,
     "read_only": false
    },
    "scrolled": true
   },
   "outputs": [],
   "source": [
    "print('{}    Beginning file concatenation for {}...'.format(dt.strftime(dt.now(),'%y/%m/%d %H:%M:%S'),flight))\n",
    "numFiles = len(rFileIx)\n",
    "fileCount = 1\n",
    "strtIx = 0\n",
    "for rFile in rFileIx:\n",
    "    print('\\tAppending file {} of {}...'.format(fileCount,numFiles))\n",
    "    \n",
    "    # Open the current radar data file\n",
    "    radData = xr.open_dataset(files[rFile])\n",
    "    \n",
    "    # Get length of time dimension of current file and define the end index\n",
    "    #    of the array slice to place data within the output arrays\n",
    "    endIx = radData.dims['time'] + strtIx\n",
    "        \n",
    "    # Pull out the dimension variables\n",
    "    gateRange_1d = radData['range'].data[rGateStrt:]\n",
    "    alt_1d = radData['altitude'].data\n",
    "    time_1d = radData['time'].data\n",
    "    \n",
    "    # Get the beam elevation angle variable (used to determine upward/downward pointing)\n",
    "    radElev_1d = radData.elevation.data\n",
    "    \n",
    "    # HCR elevation angle is positive when pointing upward\n",
    "    # Adjust the gateRange variable if this is the case to properly initialize\n",
    "    #    the ground-relative altitude array\n",
    "    if np.all(radElev_1d > 0):\n",
    "        gateRange_1d *= -1\n",
    "    \n",
    "    # Create arrays of gateRange and gate altitude matching dimensions of 2-D variables\n",
    "    gateRange_2d = np.transpose(np.tile(gateRange_1d,(len(time_1d),1)))\n",
    "    time_2d = np.tile(time_1d,(len(gateRange_1d),1))\n",
    "    alt_2d = np.tile(alt_1d,(len(gateRange_1d),1))\n",
    "\n",
    "    # Add data from current file into slice of output arrays\n",
    "    alt_all[strtIx:endIx,:] = np.transpose(alt_2d - gateRange_2d) # ground-relative altitude MSL of each gate\n",
    "    time_all[strtIx:endIx,:] = np.transpose(time_2d)\n",
    "    \n",
    "    time1d_all[strtIx:endIx] = time_1d[:]\n",
    "    radElev_all[strtIx:endIx] = radElev_1d[:]\n",
    "\n",
    "    dbz_all[strtIx:endIx,:] = radData['DBZ'].data[:,rGateStrt:]\n",
    "    vel_all[strtIx:endIx,:] = radData['VEL'].data[:,rGateStrt:]\n",
    "    width_all[strtIx:endIx,:] = radData['WIDTH'].data[:,rGateStrt:]\n",
    "    snr_all[strtIx:endIx,:] = radData['SNR'].data[:,rGateStrt:]\n",
    "    dbm_all[strtIx:endIx,:] = radData['DBMHX'].data[:,rGateStrt:]\n",
    "    ncp_all[strtIx:endIx,:] = radData['NCP'].data[:,rGateStrt:]\n",
    "    ldr_all[strtIx:endIx,:] = radData['LDR'].data[:,rGateStrt:]\n",
    "        \n",
    "    # Move our starting index for the output array to immediately\n",
    "    #    after the end of the current data slice\n",
    "    strtIx = endIx\n",
    "    \n",
    "    fileCount += 1"
   ]
  },
  {
   "cell_type": "markdown",
   "metadata": {
    "run_control": {
     "frozen": false,
     "read_only": false
    }
   },
   "source": [
    "## Write concatenated data out to NetCDF"
   ]
  },
  {
   "cell_type": "code",
   "execution_count": null,
   "metadata": {
    "ExecuteTime": {
     "end_time": "2018-01-25T11:17:30.958311",
     "start_time": "2018-01-25T11:15:27.938191"
    },
    "collapsed": false,
    "run_control": {
     "frozen": false,
     "read_only": false
    }
   },
   "outputs": [],
   "source": [
    "print('{}    Concatenation complete. Beginning netCDF write...'.format(dt.strftime(dt.now(),'%y/%m/%d %H:%M:%S')))\n",
    "# Create a netCDF file to hold our output\n",
    "rootGrp = Dataset(outFileName,'w',format='NETCDF4')\n",
    "rootGrp.set_fill_on()\n",
    "\n",
    "# Define the netCDF dimensions\n",
    "gateRng = rootGrp.createDimension('gateRng',totalRng)\n",
    "time1d = rootGrp.createDimension('time1d',totalTime)\n",
    "\n",
    "# Create out output variable instances within the file and\n",
    "#    define metadata for each as needed\n",
    "TIME = rootGrp.createVariable('time1d','f8',('time1d',))\n",
    "TIME.long_name = 'Timestamp'\n",
    "TIME.units = 'UTC YYYYMMDDTHHMMSS.f'\n",
    "TIME.coordinates = 'time1d'\n",
    "\n",
    "GRNG = rootGrp.createVariable('gateRng','f4',('gateRng',),fill_value=np.nan)\n",
    "GRNG.long_name = 'Distance from radar to center of each range gate'\n",
    "GRNG.units = 'm'\n",
    "GRNG.coordinates = 'gateRng'\n",
    "\n",
    "TIME2D = rootGrp.createVariable('time2d','f8',('time1d','gateRng'))\n",
    "TIME2D.long_name = 'Timestamp for every gate/time'\n",
    "TIME2D.units = 'UTC YYYYMMDDTHHMMSS.f'\n",
    "TIME2D.coordinates = 'time1d gateRng'\n",
    "\n",
    "GALT2D = rootGrp.createVariable('gateAlt2d','f4',('time1d','gateRng'),fill_value=np.nan)\n",
    "GALT2D.long_name = 'Altitude of each gate above MSL'\n",
    "GALT2D.units = 'm'\n",
    "GALT2D.coordinates = 'time1d gateRng'\n",
    "\n",
    "DBZ = rootGrp.createVariable('DBZ','f4',('time1d','gateRng'),fill_value=np.nan)\n",
    "DBZ.long_name = 'reflectivity'\n",
    "DBZ.units = 'dBZ'\n",
    "DBZ.sampling_ratio = 1.000000\n",
    "DBZ.grid_mapping = 'grid_mapping'\n",
    "DBZ.coordinates = 'time1d gateRng'\n",
    "\n",
    "VEL = rootGrp.createVariable('VEL','f4',('time1d','gateRng'),fill_value=np.nan)\n",
    "VEL.long_name = 'doppler_velocity'\n",
    "VEL.units = 'm/s'\n",
    "VEL.sampling_ratio = 1.000000\n",
    "VEL.grid_mapping = 'grid_mapping'\n",
    "VEL.coordinates = 'time1d gateRng'\n",
    "\n",
    "WIDTH = rootGrp.createVariable('WIDTH','f4',('time1d','gateRng'),fill_value=np.nan)\n",
    "WIDTH.long_name = 'spectrum_width'\n",
    "WIDTH.units = 'm/s'\n",
    "WIDTH.sampling_ratio = 1.000000\n",
    "WIDTH.grid_mapping = 'grid_mapping'\n",
    "WIDTH.coordinates = 'time1d gateRng'\n",
    "\n",
    "LDR = rootGrp.createVariable('LDR','f4',('time1d','gateRng'),fill_value=np.nan)\n",
    "LDR.long_name = 'linear_depolarization_ratio'\n",
    "LDR.units = 'dB'\n",
    "LDR.sampling_ratio = 1.000000\n",
    "LDR.grid_mapping = 'grid_mapping'\n",
    "LDR.coordinates = 'time1d gateRng'\n",
    "\n",
    "NCP = rootGrp.createVariable('NCP','f4',('time1d','gateRng'),fill_value=np.nan)\n",
    "NCP.long_name = 'normalized_coherent_power'\n",
    "NCP.units = ''\n",
    "NCP.sampling_ratio = 1.000000\n",
    "NCP.grid_mapping = 'grid_mapping'\n",
    "NCP.coordinates = 'time1d gateRng'\n",
    "\n",
    "SNR = rootGrp.createVariable('SNR','f4',('time1d','gateRng'),fill_value=np.nan)\n",
    "SNR.long_name = 'signal_to_noise_ratio'\n",
    "SNR.units = 'dB'\n",
    "SNR.sampling_ratio = 1.000000\n",
    "SNR.grid_mapping = 'grid_mapping'\n",
    "SNR.coordinates = 'time1d gateRng'\n",
    "\n",
    "RELV = rootGrp.createVariable('elevation','f4',('time1d',),fill_value=np.nan)\n",
    "RELV.long_name = 'Radar beam elevation (positive is upwards [plane-relative])'\n",
    "RELV.units = 'degrees'\n",
    "RELV.coordinates = 'time1d'\n",
    "\n",
    "\n",
    "# Define global attributes\n",
    "rootGrp.description = 'Concatenated HIAPER Cloud Radar data'\n",
    "rootGrp.flight = flight\n",
    "rootGrp.history = 'Created ' + time.asctime(time.gmtime()) + ' UTC'\n",
    "rootGrp.firstFile = files[strtFIx]\n",
    "rootGrp.lastFile = files[endFIx]\n",
    "\n",
    "## Write data into netCDF variables\n",
    "TIME[:] = time1d_all.astype(np.float64)\n",
    "GRNG[:] = gateRange_1d\n",
    "TIME2D[:] = time_all.astype(np.float64)\n",
    "GALT2D[:] = alt_all\n",
    "DBZ[:] = dbz_all\n",
    "VEL[:] = vel_all\n",
    "WIDTH[:] = width_all\n",
    "LDR[:] = ldr_all\n",
    "NCP[:] = ncp_all\n",
    "SNR[:] = snr_all\n",
    "RELV[:] = radElev_all\n",
    "\n",
    "# Close the output file\n",
    "rootGrp.close()\n",
    "\n",
    "print('\\nTotal script run time: {}'.format(dt.now() - scriptStrtT))"
   ]
  }
 ],
 "metadata": {
  "anaconda-cloud": {},
  "kernelspec": {
   "display_name": "Python [conda root]",
   "language": "python",
   "name": "conda-root-py"
  },
  "language_info": {
   "codemirror_mode": {
    "name": "ipython",
    "version": 3
   },
   "file_extension": ".py",
   "mimetype": "text/x-python",
   "name": "python",
   "nbconvert_exporter": "python",
   "pygments_lexer": "ipython3",
   "version": "3.5.2"
  }
 },
 "nbformat": 4,
 "nbformat_minor": 1
}

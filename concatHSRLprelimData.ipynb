{
 "cells": [
  {
   "cell_type": "markdown",
   "metadata": {
    "run_control": {
     "frozen": false,
     "read_only": false
    }
   },
   "source": [
    "# concatHSRLprelimData\n",
    "This script combines multiple \"preliminary_data\" output files from the High Spectral Resolution Lidar (HSRL) into a single output netCDF file. These input data files were created in the field by HSRL scientists and include various corrections. The most comonly required variables for analysis are concatenated into single arrays, and the inclusion of additional variables is easy enough to do if desired.\n",
    "<br><br>\n",
    "_Written by Dan Stechman_\n",
    "<br>\n",
    "_University of Illinois at Urbana-Champaign_"
   ]
  },
  {
   "cell_type": "code",
   "execution_count": null,
   "metadata": {
    "ExecuteTime": {
     "end_time": "2018-01-29T10:52:20.524247",
     "start_time": "2018-01-29T10:52:18.922894"
    },
    "collapsed": false,
    "run_control": {
     "frozen": false,
     "read_only": false
    }
   },
   "outputs": [],
   "source": [
    "from netCDF4 import Dataset\n",
    "import numpy as np\n",
    "import xarray as xr\n",
    "from glob import glob\n",
    "import time\n",
    "import warnings\n",
    "from datetime import datetime as dt\n",
    "\n",
    "scriptStrtT = dt.now()\n",
    "\n",
    "warnings.filterwarnings(\"ignore\",category=RuntimeWarning)"
   ]
  },
  {
   "cell_type": "markdown",
   "metadata": {
    "run_control": {
     "frozen": false,
     "read_only": false
    }
   },
   "source": [
    "## User Settings\n",
    "This is where the most commonly modified settings reside (i.e., flight, input data path/filenames, output path/filename, etc.)"
   ]
  },
  {
   "cell_type": "code",
   "execution_count": null,
   "metadata": {
    "ExecuteTime": {
     "end_time": "2018-01-29T10:52:20.565884",
     "start_time": "2018-01-29T10:52:20.526404"
    },
    "collapsed": false,
    "run_control": {
     "frozen": false,
     "read_only": false
    }
   },
   "outputs": [],
   "source": [
    "# This variable should match the name of the parent directory containing\n",
    "#    the flight data for the given mission. Used in defining file input \n",
    "#    and output names.\n",
    "flight = 'RF04_20180124'\n",
    "\n",
    "# Specify the location/name(s) of the input files and the output file\n",
    "files = sorted(glob('/Volumes/SOCRATES_1/' + flight + '/HSRL/preliminary_data/*GVHSRL*.nc'))\n",
    "outFileName = '/Volumes/SOCRATES_1/' + flight + '/HSRL/' + flight + '_concat-HSRL-prelimData.nc'\n",
    "\n",
    "# These are the number of gates nearest the aircraft with negative gate range values (we throw these out)\n",
    "#    **I've seen this number vary between projects, but seems consistent so far for SOCRATES at least\n",
    "lGateStrt = 4"
   ]
  },
  {
   "cell_type": "markdown",
   "metadata": {
    "run_control": {
     "frozen": false,
     "read_only": false
    }
   },
   "source": [
    "## Data File ID\n",
    "Determine which data files will provide data between the user-defined start and end times"
   ]
  },
  {
   "cell_type": "code",
   "execution_count": null,
   "metadata": {
    "ExecuteTime": {
     "end_time": "2018-01-29T10:52:20.576860",
     "start_time": "2018-01-29T10:52:20.568545"
    },
    "collapsed": false,
    "run_control": {
     "frozen": false,
     "read_only": false
    }
   },
   "outputs": [],
   "source": [
    "# Create an array of file indices (from our file listing) to loop over\n",
    "# lFileIx = np.arange(0,3)\n",
    "lFileIx = np.arange(0,len(files))"
   ]
  },
  {
   "cell_type": "markdown",
   "metadata": {
    "run_control": {
     "frozen": false,
     "read_only": false
    }
   },
   "source": [
    "## Define output variables\n",
    "Loop through all of the input files and add up the total number of points in the time dimension and determine the number of gates (vertical dimension) after removing gates with negative ranges.\n",
    "<br><br>\n",
    "Then, create empty (zero-filled) arrays of the appropriate sizes for out output."
   ]
  },
  {
   "cell_type": "code",
   "execution_count": null,
   "metadata": {
    "ExecuteTime": {
     "end_time": "2018-01-29T10:52:23.277328",
     "start_time": "2018-01-29T10:52:20.579653"
    },
    "collapsed": false,
    "run_control": {
     "frozen": false,
     "read_only": false
    },
    "scrolled": false
   },
   "outputs": [],
   "source": [
    "print('{}    Determining output dimensions...'.format(dt.strftime(dt.now(),'%y/%m/%d %H:%M:%S')))\n",
    "totalTime = 0;\n",
    "for lFile in lFileIx:\n",
    "    lidarData = xr.open_dataset(files[lFile],decode_times=False)\n",
    "    totalTime += lidarData.dims['time']\n",
    "totalRng = lidarData.dims['range'] - lGateStrt\n",
    "\n",
    "print('\\tTotal number of points in time dimension: {}'.format(totalTime))\n",
    "print('\\tTotal number of gates (in vertical dimension): {}'.format(totalRng))"
   ]
  },
  {
   "cell_type": "code",
   "execution_count": null,
   "metadata": {
    "ExecuteTime": {
     "end_time": "2018-01-29T10:52:23.435013",
     "start_time": "2018-01-29T10:52:23.279542"
    },
    "collapsed": false,
    "run_control": {
     "frozen": false,
     "read_only": false
    }
   },
   "outputs": [],
   "source": [
    "time1d_all = np.zeros((totalTime,))\n",
    "telescopeDir_all = np.zeros((totalTime,))\n",
    "gateAlt_all = np.zeros((totalTime,totalRng))\n",
    "time_all = np.zeros((totalTime,totalRng))\n",
    "\n",
    "AerosolBackscatterCoefficient_all = np.zeros((totalTime,totalRng))\n",
    "AerosolBackscatterCoefficientVariance_all = np.zeros((totalTime,totalRng))\n",
    "AerosolBackscatterCoefficientMask_all = np.zeros((totalTime,totalRng))\n",
    "ParticleDepolarization_all = np.zeros((totalTime,totalRng))\n",
    "ParticleDepolarizationVariance_all = np.zeros((totalTime,totalRng))\n",
    "ParticleDepolarizationMask_all = np.zeros((totalTime,totalRng))\n",
    "VolumeDepolarization_all = np.zeros((totalTime,totalRng))\n",
    "VolumeDepolarizationVariance_all = np.zeros((totalTime,totalRng))\n",
    "VolumeDepolarizationMask_all = np.zeros((totalTime,totalRng))\n",
    "BackscatterRatio_all = np.zeros((totalTime,totalRng))\n",
    "BackscatterRatioVariance_all = np.zeros((totalTime,totalRng))\n",
    "BackscatterRatioMask_all = np.zeros((totalTime,totalRng))\n",
    "MolecularBackscatterCoefficient_all = np.zeros((totalTime,totalRng))\n",
    "MolecularBackscatterCoefficientVariance_all = np.zeros((totalTime,totalRng))\n",
    "LowGainTotalBackscatterChannel_all = np.zeros((totalTime,totalRng))\n",
    "LowGainTotalBackscatterChannelVariance_all = np.zeros((totalTime,totalRng))\n",
    "# LowGainTotalBackscatterChannelMask_all = np.zeros((totalTime,totalRng))\n",
    "HighGainTotalBackscatterChannel_all = np.zeros((totalTime,totalRng))\n",
    "HighGainTotalBackscatterChannelVariance_all = np.zeros((totalTime,totalRng))\n",
    "# HighGainTotalBackscatterChannelMask_all = np.zeros((totalTime,totalRng))\n",
    "MolecularBackscatterChannel_all = np.zeros((totalTime,totalRng))\n",
    "MolecularBackscatterChannelVariance_all = np.zeros((totalTime,totalRng))\n",
    "CrossPolarizationChannel_all = np.zeros((totalTime,totalRng))\n",
    "CrossPolarizationChannelVariance_all = np.zeros((totalTime,totalRng))\n",
    "MergedCombinedChannel_all = np.zeros((totalTime,totalRng))\n",
    "MergedCombinedChannelVariance_all = np.zeros((totalTime,totalRng))\n",
    "MergedCombinedChannelMask_all = np.zeros((totalTime,totalRng))\n",
    "AerosolExtinctionCoefficient_all = np.zeros((totalTime,totalRng))\n",
    "AerosolExtinctionCoefficientVariance_all = np.zeros((totalTime,totalRng))\n",
    "AerosolExtinctionCoefficientMask_all = np.zeros((totalTime,totalRng))"
   ]
  },
  {
   "cell_type": "markdown",
   "metadata": {
    "run_control": {
     "frozen": false,
     "read_only": false
    }
   },
   "source": [
    "## Concatenate Variables Across All Files\n",
    "Loop through the files covering the requested time period and fill out output arrays.\n",
    "<br>\n",
    "Also, create modified time and altitude arrays which need to be 2-dimensional for plotting.\n",
    "<br>\n",
    "> The altitude array is modified using the gate range from the aircraft to yield ground-relative altitudes for each gate."
   ]
  },
  {
   "cell_type": "code",
   "execution_count": null,
   "metadata": {
    "ExecuteTime": {
     "end_time": "2018-01-29T10:53:23.963150",
     "start_time": "2018-01-29T10:52:23.437328"
    },
    "collapsed": false,
    "run_control": {
     "frozen": false,
     "read_only": false
    },
    "scrolled": true
   },
   "outputs": [],
   "source": [
    "print('{}    Beginning file concatenation for {}...'.format(dt.strftime(dt.now(),'%y/%m/%d %H:%M:%S'),flight))\n",
    "numFiles = len(lFileIx)\n",
    "fileCount = 1\n",
    "strtIx = 0\n",
    "for lFile in lFileIx:\n",
    "    print('\\tAppending file {} of {}...'.format(fileCount,numFiles))\n",
    "    \n",
    "    fDate = dt.date(dt.strptime(files[lFile][-30:-22],'%Y%m%d')) # Get the current date as a date object\n",
    "    \n",
    "    # Open the current lidar data file\n",
    "    lidarData = xr.open_dataset(files[lFile],decode_times=False)\n",
    "    \n",
    "    # Get length of time dimension of current file and define the end index\n",
    "    #    of the array slice to place data within the output arrays\n",
    "    endIx = lidarData.dims['time'] + strtIx\n",
    "        \n",
    "    # Pull out the dimension variables\n",
    "    gateRange_1d = lidarData['range'].data[lGateStrt:]\n",
    "    alt_1d = lidarData['GGALT'].data\n",
    "    time_1d_hhmmss = [dt.time(dt.utcfromtimestamp(t_sec)) for t_sec in lidarData['time'].data]\n",
    "    \n",
    "    # Convert time to an array of timestamps (use the dt.from_timestamp() function when pulling back out)\n",
    "    time_1d = [dt.timestamp(dt.combine(fDate, t)) for t in time_1d_hhmmss]\n",
    "    \n",
    "    # Get the telescope pointing direction\n",
    "    telescopeDir = lidarData['TelescopeDirection'].data # 1 = upward, 0 = downward\n",
    "\n",
    "    \n",
    "    # Create arrays of gateRange and gate altitude matching dimensions of 2-D variables\n",
    "    gateRange_2d = np.tile(gateRange_1d,(len(time_1d),1))\n",
    "    time_2d = np.transpose(np.tile(time_1d,(len(gateRange_1d),1)))\n",
    "    alt_2d = np.transpose(np.tile(alt_1d,(len(gateRange_1d),1)))\n",
    "    \n",
    "    gateRange_2d[np.where(telescopeDir == 1),:] *= -1\n",
    "\n",
    "    # Add data from current file into slice of output arrays\n",
    "    gateAlt_all[strtIx:endIx,:] = alt_2d - gateRange_2d # ground-relative altitude MSL of each gate\n",
    "    time_all[strtIx:endIx,:] = time_2d\n",
    "    \n",
    "    time1d_all[strtIx:endIx] = time_1d[:]\n",
    "    telescopeDir_all[strtIx:endIx] = telescopeDir[:]\n",
    "\n",
    "    AerosolBackscatterCoefficient_all[strtIx:endIx,:] = lidarData['Aerosol_Backscatter_Coefficient'].data[:,lGateStrt:]\n",
    "    AerosolBackscatterCoefficientVariance_all[strtIx:endIx,:] = lidarData['Aerosol_Backscatter_Coefficient_variance'].data[:,lGateStrt:]\n",
    "    AerosolBackscatterCoefficientMask_all[strtIx:endIx,:] = lidarData['Aerosol_Backscatter_Coefficient_mask'].data[:,lGateStrt:]\n",
    "    ParticleDepolarization_all[strtIx:endIx,:] = lidarData['Particle_Depolarization'].data[:,lGateStrt:]\n",
    "    ParticleDepolarizationVariance_all[strtIx:endIx,:] = lidarData['Particle_Depolarization_variance'].data[:,lGateStrt:]\n",
    "    ParticleDepolarizationMask_all[strtIx:endIx,:] = lidarData['Particle_Depolarization_mask'].data[:,lGateStrt:]\n",
    "    VolumeDepolarization_all[strtIx:endIx,:] = lidarData['Volume_Depolarization'].data[:,lGateStrt:]\n",
    "    VolumeDepolarizationVariance_all[strtIx:endIx,:] = lidarData['Volume_Depolarization_variance'].data[:,lGateStrt:]\n",
    "    VolumeDepolarizationMask_all[strtIx:endIx,:] = lidarData['Volume_Depolarization_mask'].data[:,lGateStrt:]\n",
    "    BackscatterRatio_all[strtIx:endIx,:] = lidarData['Backscatter_Ratio'].data[:,lGateStrt:]\n",
    "    BackscatterRatioVariance_all[strtIx:endIx,:] = lidarData['Backscatter_Ratio_variance'].data[:,lGateStrt:]\n",
    "    BackscatterRatioMask_all[strtIx:endIx,:] = lidarData['Backscatter_Ratio_mask'].data[:,lGateStrt:]\n",
    "    MolecularBackscatterCoefficient_all[strtIx:endIx,:] = lidarData['Molecular_Backscatter_Coefficient'].data[:,lGateStrt:]\n",
    "    MolecularBackscatterCoefficientVariance_all[strtIx:endIx,:] = lidarData['Molecular_Backscatter_Coefficient_variance'].data[:,lGateStrt:]\n",
    "    LowGainTotalBackscatterChannel_all[strtIx:endIx,:] = lidarData['Low_Gain_Total_Backscatter_Channel'].data[:,lGateStrt:]\n",
    "    LowGainTotalBackscatterChannelVariance_all[strtIx:endIx,:] = lidarData['Low_Gain_Total_Backscatter_Channel_variance'].data[:,lGateStrt:]\n",
    "#     LowGainTotalBackscatterChannelMask_all[strtIx:endIx,:] = lidarData['Low_Gain_Total_Backscatter_Channel_mask'].data[:,lGateStrt:]\n",
    "    HighGainTotalBackscatterChannel_all[strtIx:endIx,:] = lidarData['High_Gain_Total_Backscatter_Channel'].data[:,lGateStrt:]\n",
    "    HighGainTotalBackscatterChannelVariance_all[strtIx:endIx,:] = lidarData['High_Gain_Total_Backscatter_Channel_variance'].data[:,lGateStrt:]\n",
    "#     HighGainTotalBackscatterChannelMask_all[strtIx:endIx,:] = lidarData['High_Gain_Total_Backscatter_Channel_mask'].data[:,lGateStrt:]\n",
    "    MolecularBackscatterChannel_all[strtIx:endIx,:] = lidarData['Molecular_Backscatter_Channel'].data[:,lGateStrt:]\n",
    "    MolecularBackscatterChannelVariance_all[strtIx:endIx,:] = lidarData['Molecular_Backscatter_Channel_variance'].data[:,lGateStrt:]\n",
    "    CrossPolarizationChannel_all[strtIx:endIx,:] = lidarData['Cross_Polarization_Channel'].data[:,lGateStrt:]\n",
    "    CrossPolarizationChannelVariance_all[strtIx:endIx,:] = lidarData['Cross_Polarization_Channel_variance'].data[:,lGateStrt:]\n",
    "    MergedCombinedChannel_all[strtIx:endIx,:] = lidarData['Merged_Combined_Channel'].data[:,lGateStrt:]\n",
    "    MergedCombinedChannelVariance_all[strtIx:endIx,:] = lidarData['Merged_Combined_Channel_variance'].data[:,lGateStrt:]\n",
    "    MergedCombinedChannelMask_all[strtIx:endIx,:] = lidarData['Merged_Combined_Channel_mask'].data[:,lGateStrt:]\n",
    "    AerosolExtinctionCoefficient_all[strtIx:endIx,:] = lidarData['Aerosol_Extinction_Coefficient'].data[:,lGateStrt:]\n",
    "    AerosolExtinctionCoefficientVariance_all[strtIx:endIx,:] = lidarData['Aerosol_Extinction_Coefficient_variance'].data[:,lGateStrt:]\n",
    "    AerosolExtinctionCoefficientMask_all[strtIx:endIx,:] = lidarData['Aerosol_Extinction_Coefficient_mask'].data[:,lGateStrt:]\n",
    "\n",
    "        \n",
    "    # Move our starting index for the output array to immediately\n",
    "    #    after the end of the current data slice\n",
    "    strtIx = endIx\n",
    "    \n",
    "    fileCount += 1"
   ]
  },
  {
   "cell_type": "markdown",
   "metadata": {
    "run_control": {
     "frozen": false,
     "read_only": false
    }
   },
   "source": [
    "## Write concatenated data out to NetCDF"
   ]
  },
  {
   "cell_type": "code",
   "execution_count": null,
   "metadata": {
    "ExecuteTime": {
     "end_time": "2018-01-29T10:54:02.012863",
     "start_time": "2018-01-29T10:53:23.965467"
    },
    "collapsed": false,
    "run_control": {
     "frozen": false,
     "read_only": false
    }
   },
   "outputs": [],
   "source": [
    "print('{}    Concatenation complete. Beginning netCDF write...'.format(dt.strftime(dt.now(),'%y/%m/%d %H:%M:%S')))\n",
    "# Create a netCDF file to hold our output\n",
    "rootGrp = Dataset(outFileName,'w',format='NETCDF4')\n",
    "rootGrp.set_fill_on()\n",
    "\n",
    "# Define the netCDF dimensions\n",
    "gateRng = rootGrp.createDimension('gateRng',totalRng)\n",
    "time1d = rootGrp.createDimension('time1d',totalTime)\n",
    "\n",
    "# Create out output variable instances within the file and\n",
    "#    define metadata for each as needed\n",
    "TIME = rootGrp.createVariable('time1d','f8',('time1d',),fill_value=np.nan)\n",
    "TIME.long_name = 'POSIX Timestamp'\n",
    "TIME.units = 'Seconds since 1 Jan 1970'\n",
    "TIME.coordinates = 'time1d'\n",
    "\n",
    "GRNG = rootGrp.createVariable('gateRng','f4',('gateRng',),fill_value=np.nan)\n",
    "GRNG.long_name = 'Distance from lidar to center of each range gate'\n",
    "GRNG.units = 'm'\n",
    "GRNG.coordinates = 'gateRng'\n",
    "\n",
    "TIME2D = rootGrp.createVariable('time2d','f8',('time1d','gateRng'),fill_value=np.nan)\n",
    "TIME2D.long_name = 'POSIX Timestamp for every gate/time'\n",
    "TIME2D.units = 'Seconds since 1 Jan 1970'\n",
    "TIME2D.coordinates = 'time1d gateRng'\n",
    "\n",
    "GALT2D = rootGrp.createVariable('gateAlt2d','f4',('time1d','gateRng'),fill_value=np.nan)\n",
    "GALT2D.long_name = 'Altitude of each gate above MSL'\n",
    "GALT2D.units = 'm'\n",
    "GALT2D.coordinates = 'time1d gateRng'\n",
    "\n",
    "\n",
    "###\n",
    "AERO_BC = rootGrp.createVariable('Aerosol_Backscatter_Coefficient','f8',('time1d','gateRng'),fill_value=np.nan)\n",
    "AERO_BC.units = 'm-1 sr-1'\n",
    "AERO_BC.description = 'Calibrated Measurement of Aerosol Backscatter Coefficient in m-1 sr-1'\n",
    "AERO_BC.coordinates = 'time1d gateRng'\n",
    "\n",
    "AERO_BC_V = rootGrp.createVariable('Aerosol_Backscatter_Coefficient_variance','f4',('time1d','gateRng'),fill_value=np.nan)\n",
    "AERO_BC_V.coordinates = 'time1d gateRng'\n",
    "\n",
    "AERO_BC_M = rootGrp.createVariable('Aerosol_Backscatter_Coefficient_mask','i1',('time1d','gateRng'))\n",
    "AERO_BC_M.units = '1 = Masked, 0 = Not Masked'\n",
    "AERO_BC_M.coordinates = 'time1d gateRng'\n",
    "\n",
    "\n",
    "###\n",
    "PART_DEPOL = rootGrp.createVariable('Particle_Depolarization','f8',('time1d','gateRng'),fill_value=np.nan)\n",
    "PART_DEPOL.units = 'unitless'\n",
    "PART_DEPOL.description = ('Propensity of Particles to depolarize (d).  This is not identical to the depolarization ratio.' \n",
    "                          'See Gimmestad: 10.1364/AO.47.003795 or Hayman and Thayer: 10.1364/JOSAA.29.000400')\n",
    "PART_DEPOL.coordinates = 'time1d gateRng'\n",
    "\n",
    "PART_DEPOL_V = rootGrp.createVariable('Particle_Depolarization_variance','f8',('time1d','gateRng'),fill_value=np.nan)\n",
    "PART_DEPOL_V.coordinates = 'time1d gateRng'\n",
    "\n",
    "PART_DEPOL_M = rootGrp.createVariable('Particle_Depolarization_mask','i1',('time1d','gateRng'))\n",
    "PART_DEPOL_M.units = '1 = Masked, 0 = Not Masked'\n",
    "PART_DEPOL_M.coordinates = 'time1d gateRng'\n",
    "\n",
    "\n",
    "###\n",
    "VOL_DEPOL = rootGrp.createVariable('Volume_Depolarization','f8',('time1d','gateRng'),fill_value=np.nan)\n",
    "VOL_DEPOL.units = 'unitless'\n",
    "VOL_DEPOL.description = ('Propensity of Volume to depolarize (d).  This is not identical to the depolarization ratio.' \n",
    "                          'See Gimmestad: 10.1364/AO.47.003795 or Hayman and Thayer: 10.1364/JOSAA.29.000400')\n",
    "VOL_DEPOL.coordinates = 'time1d gateRng'\n",
    "\n",
    "VOL_DEPOL_V = rootGrp.createVariable('Volume_Depolarization_variance','f8',('time1d','gateRng'),fill_value=np.nan)\n",
    "VOL_DEPOL_V.coordinates = 'time1d gateRng'\n",
    "\n",
    "VOL_DEPOL_M = rootGrp.createVariable('Volume_Depolarization_mask','i1',('time1d','gateRng'))\n",
    "VOL_DEPOL_M.units = '1 = Masked, 0 = Not Masked'\n",
    "VOL_DEPOL_M.coordinates = 'time1d gateRng'\n",
    "\n",
    "\n",
    "###\n",
    "BS_RATIO = rootGrp.createVariable('Backscatter_Ratio','f8',('time1d','gateRng'),fill_value=np.nan)\n",
    "BS_RATIO.units = 'unitless'\n",
    "BS_RATIO.description = 'Ratio of combined to molecular backscatter'\n",
    "BS_RATIO.coordinates = 'time1d gateRng'\n",
    "\n",
    "BS_RATIO_V = rootGrp.createVariable('Backscatter_Ratio_variance','f8',('time1d','gateRng'),fill_value=np.nan)\n",
    "BS_RATIO_V.coordinates = 'time1d gateRng'\n",
    "\n",
    "BS_RATIO_M = rootGrp.createVariable('Backscatter_Ratio_mask','i1',('time1d','gateRng'))\n",
    "BS_RATIO_M.units = '1 = Masked, 0 = Not Masked'\n",
    "BS_RATIO_M.coordinates = 'time1d gateRng'\n",
    "\n",
    "\n",
    "###\n",
    "MOLECBS_COEF = rootGrp.createVariable('Molecular_Backscatter_Coefficient','f8',('time1d','gateRng'),fill_value=np.nan)\n",
    "MOLECBS_COEF.units = 'm-1 sr-1'\n",
    "MOLECBS_COEF.description = 'Ideal Atmosphere Molecular Backscatter Coefficient in m-1 sr-1'\n",
    "MOLECBS_COEF.coordinates = 'time1d gateRng'\n",
    "\n",
    "MOLECBS_COEF_V = rootGrp.createVariable('Molecular_Backscatter_Coefficient_variance','f8',('time1d','gateRng'),fill_value=np.nan)\n",
    "MOLECBS_COEF_V.coordinates = 'time1d gateRng'\n",
    "\n",
    "\n",
    "###\n",
    "LOWGAIN_TBC = rootGrp.createVariable('Low_Gain_Total_Backscatter_Channel','f8',('time1d','gateRng'),fill_value=np.nan)\n",
    "LOWGAIN_TBC.units = 'Photon Counts'\n",
    "LOWGAIN_TBC.description = 'Parallel Polarization, Low Gain, Combined Aerosol and Molecular Returns'\n",
    "LOWGAIN_TBC.coordinates = 'time1d gateRng'\n",
    "\n",
    "LOWGAIN_TBC_V = rootGrp.createVariable('Low_Gain_Total_Backscatter_Channel_variance','f8',('time1d','gateRng'),fill_value=np.nan)\n",
    "LOWGAIN_TBC_V.coordinates = 'time1d gateRng'\n",
    "\n",
    "\n",
    "###\n",
    "HIGAIN_TBC = rootGrp.createVariable('High_Gain_Total_Backscatter_Channel','f8',('time1d','gateRng'),fill_value=np.nan)\n",
    "HIGAIN_TBC.units = 'Photon Counts'\n",
    "HIGAIN_TBC.description = 'Parallel Polarization, High Gain, Combined Aerosol and Molecular Returns'\n",
    "HIGAIN_TBC.coordinates = 'time1d gateRng'\n",
    "\n",
    "HIGAIN_TBC_V = rootGrp.createVariable('High_Gain_Total_Backscatter_Channel_variance','f8',('time1d','gateRng'),fill_value=np.nan)\n",
    "HIGAIN_TBC_V.coordinates = 'time1d gateRng'\n",
    "\n",
    "\n",
    "###\n",
    "MOLEC_BSC = rootGrp.createVariable('Molecular_Backscatter_Channel','f8',('time1d','gateRng'),fill_value=np.nan)\n",
    "MOLEC_BSC.units = 'Photon Counts'\n",
    "MOLEC_BSC.description = 'Parallel Polarization\\nMolecular Backscatter Returns'\n",
    "MOLEC_BSC.coordinates = 'time1d gateRng'\n",
    "\n",
    "MOLEC_BSC_V = rootGrp.createVariable('Molecular_Backscatter_Channel_variance','f8',('time1d','gateRng'),fill_value=np.nan)\n",
    "MOLEC_BSC_V.coordinates = 'time1d gateRng'\n",
    "\n",
    "\n",
    "###\n",
    "CRSPOL = rootGrp.createVariable('Cross_Polarization_Channel','f8',('time1d','gateRng'),fill_value=np.nan)\n",
    "CRSPOL.units = 'Photon Counts'\n",
    "CRSPOL.description = 'Cross Polarization\\nCombined Aerosol and Molecular Returns'\n",
    "CRSPOL.coordinates = 'time1d gateRng'\n",
    "\n",
    "CRSPOL_V = rootGrp.createVariable('Cross_Polarization_Channel_variance','f8',('time1d','gateRng'),fill_value=np.nan)\n",
    "CRSPOL_V.coordinates = 'time1d gateRng'\n",
    "\n",
    "\n",
    "###\n",
    "MRG_CMBND = rootGrp.createVariable('Merged_Combined_Channel','f8',('time1d','gateRng'),fill_value=np.nan)\n",
    "MRG_CMBND.units = 'Photon Counts'\n",
    "MRG_CMBND.description = 'Merged hi/lo gain combined channel'\n",
    "MRG_CMBND.coordinates = 'time1d gateRng'\n",
    "\n",
    "MRG_CMBND_V = rootGrp.createVariable('Merged_Combined_Channel_variance','f8',('time1d','gateRng'),fill_value=np.nan)\n",
    "MRG_CMBND_V.coordinates = 'time1d gateRng'\n",
    "\n",
    "MRG_CMBND_M = rootGrp.createVariable('Merged_Combined_Channel_mask','i1',('time1d','gateRng'))\n",
    "MRG_CMBND_M.units = '1 = Masked, 0 = Not Masked'\n",
    "MRG_CMBND_M.coordinates = 'time1d gateRng'\n",
    "\n",
    "\n",
    "###\n",
    "AERO_EXT_COEF = rootGrp.createVariable('Aersol_Extinction_Coefficient','f8',('time1d','gateRng'),fill_value=np.nan)\n",
    "AERO_EXT_COEF.units = 'm-1'\n",
    "AERO_EXT_COEF.description = 'Aerosol Extinction Coefficient'\n",
    "AERO_EXT_COEF.coordinates = 'time1d gateRng'\n",
    "\n",
    "AERO_EXT_COEF_V = rootGrp.createVariable('Aersol_Extinction_Coefficient_variance','f8',('time1d','gateRng'),fill_value=np.nan)\n",
    "AERO_EXT_COEF_V.coordinates = 'time1d gateRng'\n",
    "\n",
    "AERO_EXT_COEF_M = rootGrp.createVariable('Aersol_Extinction_Coefficient_mask','i1',('time1d','gateRng'))\n",
    "AERO_EXT_COEF_M.units = '1 = Masked, 0 = Not Masked'\n",
    "AERO_EXT_COEF_M.coordinates = 'time1d gateRng'\n",
    "\n",
    "\n",
    "\n",
    "\n",
    "# Define global attributes\n",
    "rootGrp.description = 'Concatenated High Spectral Resolution Lidar preliminary_data data'\n",
    "rootGrp.flight = flight\n",
    "rootGrp.history = 'Created ' + time.asctime(time.gmtime()) + ' UTC'\n",
    "rootGrp.firstFile = files[lFileIx[0]]\n",
    "rootGrp.lastFile = files[lFileIx[-1]]\n",
    "rootGrp.lidarWavelength = 5.32e-07\n",
    "rootGrp.ProcessingStatus= ('Raw Data,Removed specified times,Applied Pointwise Mask,'\n",
    "                           'Nonlinear CountRate Correction for dead time 28.4 ns,Background Subtracted over [28952.46, 29694.44] m,' \n",
    "                           'Grab Range Slice 0.0 - 13874.6 m,Converted range to altitude data,'\n",
    "                           'Applied Pointwise Mask,Time Resampled to dt= 2.0 s,Performed piecewise multiplication,'\n",
    "                           'Profile Rescaled by array betwen 0.687502 and 0.687502,'\n",
    "                           'Copy of previous profile: Molecular Backscatter Channel,'\n",
    "                           'Multiplied by Molecular Backscatter Coefficient,Applied Pointwise Mask,Applied Pointwise Mask')\n",
    "\n",
    "## Write data into netCDF variables\n",
    "TIME[:] = time1d_all\n",
    "GRNG[:] = gateRange_1d\n",
    "TIME2D[:] = time_all\n",
    "GALT2D[:] = gateAlt_all\n",
    "AERO_BC[:] = AerosolBackscatterCoefficient_all\n",
    "AERO_BC_V[:] = AerosolBackscatterCoefficientVariance_all\n",
    "AERO_BC_M[:] = AerosolBackscatterCoefficientMask_all\n",
    "PART_DEPOL[:] = ParticleDepolarization_all\n",
    "PART_DEPOL_V[:] = ParticleDepolarizationVariance_all\n",
    "PART_DEPOL_M[:] = ParticleDepolarizationMask_all\n",
    "VOL_DEPOL[:] = VolumeDepolarization_all\n",
    "VOL_DEPOL_V[:] = VolumeDepolarizationVariance_all\n",
    "VOL_DEPOL_M[:] = VolumeDepolarizationMask_all\n",
    "BS_RATIO[:] = BackscatterRatio_all\n",
    "BS_RATIO_V[:] = BackscatterRatioVariance_all\n",
    "BS_RATIO_M[:] = BackscatterRatioMask_all\n",
    "MOLECBS_COEF[:] = MolecularBackscatterCoefficient_all\n",
    "MOLECBS_COEF_V[:] = MolecularBackscatterCoefficientVariance_all\n",
    "LOWGAIN_TBC[:] = LowGainTotalBackscatterChannel_all\n",
    "LOWGAIN_TBC_V[:] = LowGainTotalBackscatterChannelVariance_all\n",
    "HIGAIN_TBC[:] = HighGainTotalBackscatterChannel_all\n",
    "HIGAIN_TBC_V[:] = HighGainTotalBackscatterChannelVariance_all\n",
    "MOLEC_BSC[:] = MolecularBackscatterChannel_all\n",
    "MOLEC_BSC_V[:] = MolecularBackscatterChannelVariance_all\n",
    "CRSPOL[:] = CrossPolarizationChannel_all\n",
    "CRSPOL_V[:] = CrossPolarizationChannelVariance_all\n",
    "MRG_CMBND[:] = MergedCombinedChannel_all\n",
    "MRG_CMBND_V[:] = MergedCombinedChannelVariance_all\n",
    "MRG_CMBND_M[:] = MergedCombinedChannelMask_all\n",
    "AERO_EXT_COEF[:] = AerosolExtinctionCoefficient_all\n",
    "AERO_EXT_COEF_V[:] = AerosolExtinctionCoefficientVariance_all\n",
    "AERO_EXT_COEF_M[:] = AerosolExtinctionCoefficientMask_all\n",
    "\n",
    "\n",
    "\n",
    "# Close the output file\n",
    "rootGrp.close()\n",
    "\n",
    "print('\\nTotal script run time: {}'.format(dt.now() - scriptStrtT))"
   ]
  }
 ],
 "metadata": {
  "anaconda-cloud": {},
  "kernelspec": {
   "display_name": "Python [conda root]",
   "language": "python",
   "name": "conda-root-py"
  },
  "language_info": {
   "codemirror_mode": {
    "name": "ipython",
    "version": 3
   },
   "file_extension": ".py",
   "mimetype": "text/x-python",
   "name": "python",
   "nbconvert_exporter": "python",
   "pygments_lexer": "ipython3",
   "version": "3.5.2"
  }
 },
 "nbformat": 4,
 "nbformat_minor": 1
}

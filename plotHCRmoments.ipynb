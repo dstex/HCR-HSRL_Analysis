{
 "cells": [
  {
   "cell_type": "code",
   "execution_count": 1,
   "metadata": {
    "ExecuteTime": {
     "end_time": "2018-01-23T14:25:40.698054",
     "start_time": "2018-01-23T14:25:38.502072"
    },
    "collapsed": false,
    "run_control": {
     "frozen": false,
     "read_only": false
    }
   },
   "outputs": [
    {
     "name": "stderr",
     "output_type": "stream",
     "text": [
      "/Users/danstechman/anaconda/lib/python3.5/site-packages/xarray/core/formatting.py:16: FutureWarning: The pandas.tslib module is deprecated and will be removed in a future version.\n",
      "  from pandas.tslib import OutOfBoundsDatetime\n"
     ]
    }
   ],
   "source": [
    "import pyart\n",
    "import pandas as pd\n",
    "import numpy as np\n",
    "from matplotlib import pyplot as plt\n",
    "import xarray as xr\n",
    "import datetime\n",
    "import matplotlib.dates as mdates\n",
    "import warnings\n",
    "import os\n",
    "dt = datetime.datetime\n",
    "\n",
    "scriptStrtT = dt.now()\n",
    "\n",
    "np.set_printoptions(precision=3,suppress=True,threshold=10000)\n",
    "\n",
    "warnings.filterwarnings(\"ignore\",category=RuntimeWarning)\n",
    "\n",
    "# %matplotlib inline"
   ]
  },
  {
   "cell_type": "markdown",
   "metadata": {
    "run_control": {
     "frozen": false,
     "read_only": false
    }
   },
   "source": [
    "## Plot Settings\n",
    "This is where the most commonly modified settings reside (i.e., flight, plot start/end times, data location, save path and file type, etc.)"
   ]
  },
  {
   "cell_type": "code",
   "execution_count": 32,
   "metadata": {
    "ExecuteTime": {
     "end_time": "2018-01-23T14:59:56.988703",
     "start_time": "2018-01-23T14:59:56.905177"
    },
    "collapsed": false,
    "run_control": {
     "frozen": false,
     "read_only": false
    }
   },
   "outputs": [],
   "source": [
    "flight = 'RF02_20180119'\n",
    "\n",
    "if flight == 'RF01_20180116':\n",
    "    startT = '20180115_230000'\n",
    "    endT = '20180116_054500'\n",
    "    \n",
    "if flight == 'RF02_20180119':\n",
    "#     startT = '20180119_004500'\n",
    "#     endT = '20180119_064500'\n",
    "    \n",
    "    segNum = 11\n",
    "    \n",
    "    startT_segs = ['20180119_033500','20180119_034600','20180119_035300','20180119_041400',\n",
    "                   '20180119_042300','20180119_044500','20180119_050100','20180119_051200',\n",
    "                  '20180119_052500','20180119_054200','20180119_055500']\n",
    "    endT_segs = ['20180119_034500','20180119_035200','20180119_040200','20180119_042300',\n",
    "                 '20180119_043500','20180119_050000','20180119_051100','20180119_051800',\n",
    "                '20180119_053300','20180119_054800','20180119_063200']\n",
    "    dur_segs = [10,6,9,9,12,15,10,6,8,6,37]\n",
    "    \n",
    "    \n",
    "    startT = startT_segs[segNum-1]\n",
    "    endT = endT_segs[segNum-1]\n",
    "    dur = dur_segs[segNum-1]\n",
    "\n",
    "fourPanel_5min  = False\n",
    "fourPanel_15min = False\n",
    "fourPanel_variable = True\n",
    "\n",
    "if fourPanel_5min:\n",
    "    tDelta = datetime.timedelta(minutes=5)\n",
    "    saveDir = '5min_4panel'\n",
    "    \n",
    "if fourPanel_15min:\n",
    "    tDelta = datetime.timedelta(minutes=15)\n",
    "    saveDir = '15min_4panel'\n",
    "\n",
    "if fourPanel_variable:\n",
    "    tDelta = datetime.timedelta(minutes=dur)\n",
    "    saveDir = 'variableSegs_4panel'\n",
    "\n",
    "\n",
    "\n",
    "hcrFile = '/Volumes/SOCRATES_1/HCR/cfradial/moments/' + flight + '_concat-HCR-moments.nc' \n",
    "\n",
    "figSavePath = '/Users/danstechman/GoogleDrive/School/Research/SOCRATES/UI_OU_SOCRATES_Group/SOCRATES/Plots/' + flight + '/HCR/' + saveDir + '/'\n",
    "os.makedirs(figSavePath,exist_ok=True)\n",
    "\n",
    "fType = 'png'"
   ]
  },
  {
   "cell_type": "markdown",
   "metadata": {
    "run_control": {
     "frozen": false,
     "read_only": false
    }
   },
   "source": [
    "## Read data\n",
    "Read in the concatenated HCR variables"
   ]
  },
  {
   "cell_type": "code",
   "execution_count": 3,
   "metadata": {
    "ExecuteTime": {
     "end_time": "2018-01-23T14:26:46.369898",
     "start_time": "2018-01-23T14:25:40.847782"
    },
    "collapsed": false,
    "run_control": {
     "frozen": false,
     "read_only": false
    }
   },
   "outputs": [],
   "source": [
    "hcrData = xr.open_dataset(hcrFile)\n",
    "\n",
    "time1d = np.asarray(hcrData['time1d'].data,dtype='datetime64[ns]')\n",
    "time1d_rnd = (pd.to_datetime(time1d)).round('1s').values\n",
    "time2d = np.asarray(hcrData['time2d'].data,dtype='datetime64[ns]')\n",
    "gateAlt = hcrData['gateAlt2d'].data\n",
    "elev = hcrData['elevation'].data\n",
    "\n",
    "radDwnwrd = np.where(elev < 0.0)\n",
    "\n",
    "dbz = hcrData['DBZ'].data\n",
    "vel = hcrData['VEL'].data\n",
    "width = hcrData['WIDTH'].data\n",
    "ldr = hcrData['LDR'].data\n",
    "ncp = hcrData['NCP'].data\n",
    "snr = hcrData['SNR'].data\n",
    "\n",
    "# Adjust radial velocities so negative values are always downward\n",
    "vel[radDwnwrd,:] *= -1"
   ]
  },
  {
   "cell_type": "markdown",
   "metadata": {
    "run_control": {
     "frozen": false,
     "read_only": false
    }
   },
   "source": [
    "## Mask Variables\n",
    "Mask variables to be plotted based on a number of (adjustable) criteria."
   ]
  },
  {
   "cell_type": "code",
   "execution_count": 5,
   "metadata": {
    "ExecuteTime": {
     "end_time": "2018-01-23T14:28:02.954606",
     "start_time": "2018-01-23T14:27:22.309225"
    },
    "collapsed": false,
    "run_control": {
     "frozen": false,
     "read_only": false
    }
   },
   "outputs": [],
   "source": [
    "# create masked versions of variables, starting with any nan's present\n",
    "dbz_masked_inv = np.ma.masked_invalid(dbz)\n",
    "vel_masked_inv = np.ma.masked_invalid(vel)\n",
    "width_masked_inv = np.ma.masked_invalid(width)\n",
    "ldr_masked_inv = np.ma.masked_invalid(ldr)\n",
    "\n",
    "# find indices where alt<0\n",
    "dbz_masked_alt = np.ma.masked_where(gateAlt < 0,dbz_masked_inv)\n",
    "vel_masked_alt = np.ma.masked_where(gateAlt < 0,vel_masked_inv)\n",
    "width_masked_alt = np.ma.masked_where(gateAlt < 0,width_masked_inv)\n",
    "ldr_masked_alt = np.ma.masked_where(gateAlt < 0,ldr_masked_inv)\n",
    "\n",
    "# mask variables using thresholding on NCP/SNR\n",
    "# dbz_masked_ncp = np.ma.masked_where(snr < 6.5,dbz_masked_alt)\n",
    "# vel_masked_ncp = np.ma.masked_where(snr < 6.5,vel_masked_alt)\n",
    "# width_masked_ncp = np.ma.masked_where(snr < 6.5,width_masked_alt)\n",
    "# ldr_masked_ncp = np.ma.masked_where(snr < 6.5,ldr_masked_alt)\n",
    "dbz_masked_ncp = np.ma.masked_where(ncp < 0.2,dbz_masked_alt)\n",
    "vel_masked_ncp = np.ma.masked_where(ncp < 0.2,vel_masked_alt)\n",
    "width_masked_ncp = np.ma.masked_where(ncp < 0.2,width_masked_alt)\n",
    "ldr_masked_ncp = np.ma.masked_where(ncp < 0.2,ldr_masked_alt)"
   ]
  },
  {
   "cell_type": "markdown",
   "metadata": {
    "run_control": {
     "frozen": false,
     "read_only": false
    }
   },
   "source": [
    "## Data Index ID\n",
    "Determine which data indices will provide data between the user-defined start and end times"
   ]
  },
  {
   "cell_type": "code",
   "execution_count": 33,
   "metadata": {
    "ExecuteTime": {
     "end_time": "2018-01-23T15:00:37.875635",
     "start_time": "2018-01-23T15:00:02.481922"
    },
    "collapsed": false,
    "run_control": {
     "frozen": false,
     "read_only": false
    }
   },
   "outputs": [],
   "source": [
    "startT_dt = dt.strptime(startT,'%Y%m%d_%H%M%S')\n",
    "endT_dt = dt.strptime(endT,'%Y%m%d_%H%M%S')\n",
    "\n",
    "# Find start and end indices most closely matching current frame\n",
    "tMatchStrt = min(time1d_rnd, key=lambda x: abs(pd.to_datetime(x) - startT_dt))\n",
    "startT_ix = np.squeeze(np.where(time1d_rnd == tMatchStrt))[0]\n",
    "tMatchEnd = min(time1d_rnd, key=lambda x: abs(pd.to_datetime(x) - endT_dt))\n",
    "endT_ix = np.squeeze(np.where(time1d_rnd == tMatchEnd))[-1]\n",
    "\n",
    "# Get the actual start/end times (from the time variable, not the user-defined start/end)\n",
    "strtDT_rnd = pd.to_datetime(time1d_rnd[startT_ix])\n",
    "endDT_rnd = pd.to_datetime(time1d_rnd[endT_ix])"
   ]
  },
  {
   "cell_type": "markdown",
   "metadata": {
    "ExecuteTime": {
     "end_time": "2018-01-18T21:55:25.821900",
     "start_time": "2018-01-18T21:55:25.796621"
    },
    "collapsed": false,
    "run_control": {
     "frozen": false,
     "read_only": false
    }
   },
   "source": [
    "## Create plots"
   ]
  },
  {
   "cell_type": "code",
   "execution_count": 34,
   "metadata": {
    "ExecuteTime": {
     "end_time": "2018-01-23T15:02:17.155691",
     "start_time": "2018-01-23T15:00:37.877996"
    },
    "collapsed": false,
    "run_control": {
     "frozen": false,
     "read_only": false
    }
   },
   "outputs": [
    {
     "name": "stdout",
     "output_type": "stream",
     "text": [
      "Plotting 20180119 - 05:55:00-06:32:00\n",
      "Script executed in 0:36:36.457658\n"
     ]
    }
   ],
   "source": [
    "tmpStrtDT = strtDT_rnd\n",
    "tmpEndDT = strtDT_rnd + tDelta\n",
    "while tmpEndDT <= (endDT_rnd + datetime.timedelta(minutes=1)):\n",
    "    \n",
    "    if tmpStrtDT.day == tmpEndDT.day:\n",
    "        titleDTstr = '{} - {}-{}'.format(dt.strftime(tmpStrtDT,'%Y%m%d'),dt.strftime(tmpStrtDT,'%H:%M:%S'),\n",
    "                                         dt.strftime(tmpEndDT,'%H:%M:%S'))\n",
    "        if tDelta <= datetime.timedelta(minutes=5):\n",
    "            saveDTstr = '{}_{}-{}'.format(dt.strftime(tmpStrtDT,'%Y%m%d'),dt.strftime(tmpStrtDT,'%H%M%S'),\n",
    "                                             dt.strftime(tmpEndDT,'%H%M%S'))\n",
    "        else:\n",
    "            saveDTstr = '{}_{}-{}'.format(dt.strftime(tmpStrtDT,'%Y%m%d'),dt.strftime(tmpStrtDT,'%H%M'),\n",
    "                                             dt.strftime(tmpEndDT,'%H%M'))\n",
    "    else:\n",
    "        titleDTstr = '{}-{} - {}-{}'.format(dt.strftime(tmpStrtDT,'%Y%m%d'),dt.strftime(tmpStrtDT,'%H:%M:%S'),\n",
    "                                         dt.strftime(tmpEndDT,'%Y%m%d'),dt.strftime(tmpEndDT,'%H:%M:%S'))\n",
    "        if tDelta <= datetime.timedelta(minutes=5):\n",
    "            saveDTstr = '{}_{}-{}_{}'.format(dt.strftime(tmpStrtDT,'%Y%m%d'),dt.strftime(tmpStrtDT,'%H%M'),\n",
    "                                             dt.strftime(tmpEndDT,'%Y%m%d'),dt.strftime(tmpEndDT,'%H%M%S'))\n",
    "        else:\n",
    "            saveDTstr = '{}_{}-{}_{}'.format(dt.strftime(tmpStrtDT,'%Y%m%d'),dt.strftime(tmpStrtDT,'%H%M'),\n",
    "                                             dt.strftime(tmpEndDT,'%Y%m%d'),dt.strftime(tmpEndDT,'%H%M'))\n",
    "    print('Plotting {}'.format(titleDTstr))\n",
    "    \n",
    "    # Set up nicely formatted date ticks\n",
    "#     xtick_locator = mdates.AutoDateLocator()\n",
    "#     xtick_locator.intervald['MINUTELY'] = [0]\n",
    "    if tDelta <= datetime.timedelta(minutes=5):\n",
    "        xtick_formatter = mdates.DateFormatter(fmt='%H:%M:%S')\n",
    "    else:\n",
    "        xtick_formatter = mdates.DateFormatter(fmt='%H:%M')\n",
    "    \n",
    "    # Find start and end indices most closely matching current frame\n",
    "    tMatchStrt = min(time1d_rnd, key=lambda x: abs(pd.to_datetime(x) - tmpStrtDT))\n",
    "    tmpStIx = np.squeeze(np.where(time1d_rnd == tMatchStrt))[0]\n",
    "    tMatchEnd = min(time1d_rnd, key=lambda x: abs(pd.to_datetime(x) - tmpEndDT))\n",
    "    tmpEndIx = np.squeeze(np.where(time1d_rnd == tMatchEnd))[-1]\n",
    "\n",
    "    \n",
    "    # Initialize figure with 4 subplots, sharing x and y axes\n",
    "    if fourPanel_5min:\n",
    "        fig, (ax1, ax2, ax3, ax4) = plt.subplots(4, sharex=True, sharey=True,figsize=(16,28))\n",
    "        axFsz = 24\n",
    "        caxFsz = 20\n",
    "        ttlFsz = 28\n",
    "        tkFsz = 16\n",
    "        ctkFsz = 16\n",
    "        caxShrnk = 0.75\n",
    "        titleAppnd = ''\n",
    "        saveAppnd = ''\n",
    "    if fourPanel_15min:\n",
    "        fig, (ax1, ax2, ax3, ax4) = plt.subplots(4, sharex=True, sharey=True,figsize=(48,28))\n",
    "        axFsz = 32\n",
    "        caxFsz = 28\n",
    "        ttlFsz = 36\n",
    "        tkFsz = 24\n",
    "        ctkFsz = 20\n",
    "        caxShrnk = 0.9\n",
    "        titleAppnd = ''\n",
    "        saveAppnd = ''\n",
    "    if fourPanel_variable:\n",
    "        fig, (ax1, ax2, ax3, ax4) = plt.subplots(4, sharex=True, sharey=True,figsize=(16*(dur/5.),28))\n",
    "        axFsz = 32\n",
    "        caxFsz = 28\n",
    "        ttlFsz = 36\n",
    "        tkFsz = 24\n",
    "        ctkFsz = 20\n",
    "        caxShrnk = 0.9\n",
    "        titleAppnd = ' - Seg #' + str(segNum)\n",
    "        saveAppnd = '_Seg' + str(segNum)\n",
    "\n",
    "    # Plot reflectivity and create our figure title\n",
    "    im1 = ax1.pcolormesh(time2d[tmpStIx:tmpEndIx,:],np.flipud(gateAlt[tmpStIx:tmpEndIx,:]/1000),\n",
    "                         np.flipud(dbz_masked_ncp[tmpStIx:tmpEndIx,:]),\n",
    "                         vmin=-40,vmax=16,cmap=pyart.graph.cm.LangRainbow12)\n",
    "    ax1.set_ylim([0,7])\n",
    "    cax1 = fig.colorbar(im1,ax=ax1,fraction=0.08,shrink=caxShrnk,pad=0.008)\n",
    "    cax1.set_label('Reflectivity (dBZ)',fontsize=caxFsz)\n",
    "    cax1.ax.set_yticklabels(cax1.ax.get_yticklabels(), fontsize=ctkFsz)\n",
    "    ax1.tick_params(axis='both', which='major', labelsize=tkFsz)\n",
    "    ax1.set_title('SOCRATES - {} UTC{}'.format(titleDTstr,titleAppnd),fontsize=ttlFsz) \n",
    "    ax1.grid()\n",
    "\n",
    "\n",
    "    # Plot radial velocity and label the y-axis\n",
    "    im2 = ax2.pcolormesh(time2d[tmpStIx:tmpEndIx,:],np.flipud(gateAlt[tmpStIx:tmpEndIx,:]/1000),\n",
    "                         np.flipud(vel_masked_ncp[tmpStIx:tmpEndIx,:]),\n",
    "                         vmin=-5,vmax=5,cmap=pyart.graph.cm.Wild25_r)\n",
    "    ax2.set_ylim([0,7])\n",
    "    cax2 = fig.colorbar(im2,ax=ax2,fraction=0.08,shrink=caxShrnk,pad=0.008)\n",
    "    cax2.set_label('Radial Velocity (m/s)',fontsize=caxFsz)\n",
    "    cax2.ax.set_yticklabels(cax2.ax.get_yticklabels(), fontsize=ctkFsz)\n",
    "    ax2.tick_params(axis='both', which='major', labelsize=tkFsz)\n",
    "    ax2.set_ylabel('Altitude (km)',fontsize=axFsz)\n",
    "    ax2.grid()\n",
    "\n",
    "\n",
    "    # Plot LDR\n",
    "    im3 = ax3.pcolormesh(time2d[tmpStIx:tmpEndIx,:],np.flipud(gateAlt[tmpStIx:tmpEndIx,:]/1000),\n",
    "                         np.flipud(ldr_masked_ncp[tmpStIx:tmpEndIx,:]),\n",
    "                         vmin=-40,vmax=0,cmap=pyart.graph.cm.NWSRef)\n",
    "    ax3.set_ylim([0,7])\n",
    "    cax3 = fig.colorbar(im3,ax=ax3,fraction=0.08,shrink=caxShrnk,pad=0.008)\n",
    "    cax3.ax.set_yticklabels(cax3.ax.get_yticklabels(), fontsize=ctkFsz)\n",
    "    cax3.set_label('LDR (dB)',fontsize=caxFsz)\n",
    "    ax3.tick_params(axis='both', which='major', labelsize=tkFsz)\n",
    "    ax3.grid()\n",
    "\n",
    "\n",
    "    # Plot spectral width and label the x-axis (time)\n",
    "    im4 = ax4.pcolormesh(time2d[tmpStIx:tmpEndIx,:],np.flipud(gateAlt[tmpStIx:tmpEndIx,:]/1000),\n",
    "                         np.flipud(width_masked_ncp[tmpStIx:tmpEndIx,:]),\n",
    "                         vmin=0,vmax=3,cmap=pyart.graph.cm.RefDiff)\n",
    "    cax4 = fig.colorbar(im4,ax=ax4,fraction=0.08,shrink=caxShrnk,pad=0.008)\n",
    "    cax4.set_label('Spectral Width (m/s)',fontsize=caxFsz,)\n",
    "    cax4.ax.set_yticklabels(cax4.ax.get_yticklabels(), fontsize=ctkFsz)\n",
    "    ax4.set_xlabel('Time (UTC)',fontsize=axFsz)\n",
    "#     ax4.xaxis.set_major_locator(xtick_locator)\n",
    "    ax4.xaxis.set_major_locator(mdates.MinuteLocator())\n",
    "    ax4.xaxis.set_major_formatter(xtick_formatter)\n",
    "    ax4.tick_params(axis='both', which='major', labelsize=tkFsz)\n",
    "    ax4.grid()\n",
    "\n",
    "\n",
    "    # Clean up the date format a bit further and remove extra whitespace between subplots\n",
    "    fig.autofmt_xdate()\n",
    "    fig.subplots_adjust(hspace=0.08)\n",
    "\n",
    "\n",
    "    # Save the output figure\n",
    "    saveStr = '{}HCR-moments_{}{}.{}'.format(figSavePath,saveDTstr,saveAppnd,fType)\n",
    "    fig.savefig(saveStr,bbox_inches='tight')\n",
    "\n",
    "#     print('Plot start: {}'.format(dt.strftime(tmpStrtDT,'%H:%M:%S')))\n",
    "#     print('Plot end: {}'.format(dt.strftime(tmpEndDT,'%H:%M:%S')))\n",
    "    tmpStrtDT = tmpEndDT\n",
    "    tmpEndDT += tDelta\n",
    "\n",
    "print('Script executed in {}'.format(dt.now() - scriptStrtT))"
   ]
  }
 ],
 "metadata": {
  "anaconda-cloud": {},
  "kernelspec": {
   "display_name": "Python [conda root]",
   "language": "python",
   "name": "conda-root-py"
  },
  "language_info": {
   "codemirror_mode": {
    "name": "ipython",
    "version": 3
   },
   "file_extension": ".py",
   "mimetype": "text/x-python",
   "name": "python",
   "nbconvert_exporter": "python",
   "pygments_lexer": "ipython3",
   "version": "3.5.2"
  }
 },
 "nbformat": 4,
 "nbformat_minor": 1
}

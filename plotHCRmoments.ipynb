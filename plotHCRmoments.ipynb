{
 "cells": [
  {
   "cell_type": "markdown",
   "metadata": {
    "run_control": {
     "frozen": false,
     "read_only": false
    }
   },
   "source": [
    "# plotHCRmoments\n",
    "This script imports and plots radar moments from concatenated versions (_using `concatHCRmoments`_) of the HIAPER Cloud Radar data.\n",
    "<br><br>\n",
    "Typically this script will take ~30 min to plot 15-min 4-panel plots for ~7 hours of flight time (run on an early 2015 MacBook Pro).\n",
    "<br><br>\n",
    "_Written by Dan Stechman_\n",
    "<br>\n",
    "_University of Illinois at Urbana-Champaign_"
   ]
  },
  {
   "cell_type": "code",
   "execution_count": null,
   "metadata": {
    "ExecuteTime": {
     "end_time": "2018-02-01T10:30:16.163004",
     "start_time": "2018-02-01T10:30:13.603332"
    },
    "collapsed": false,
    "run_control": {
     "frozen": false,
     "read_only": false
    }
   },
   "outputs": [],
   "source": [
    "import pyart\n",
    "import pandas as pd\n",
    "import numpy as np\n",
    "from matplotlib import pyplot as plt\n",
    "import xarray as xr\n",
    "import datetime\n",
    "import matplotlib.dates as mdates\n",
    "import warnings\n",
    "import os\n",
    "\n",
    "dt = datetime.datetime\n",
    "\n",
    "scriptStrtT = dt.now()\n",
    "\n",
    "warnings.filterwarnings(\"ignore\",category=RuntimeWarning)\n",
    "\n",
    "# np.set_printoptions(precision=3,suppress=True,threshold=10000) # Enable to control number format when printing values within notebook\n",
    "# %matplotlib inline # Enable if plotting single time periods interactively - will display plot within notebook"
   ]
  },
  {
   "cell_type": "markdown",
   "metadata": {
    "run_control": {
     "frozen": false,
     "read_only": false
    }
   },
   "source": [
    "## User Settings\n",
    "This is where the most commonly modified settings reside (i.e., flight, plot start/end times, data location, save path and file type, etc.)"
   ]
  },
  {
   "cell_type": "code",
   "execution_count": null,
   "metadata": {
    "ExecuteTime": {
     "end_time": "2018-02-01T10:30:16.440125",
     "start_time": "2018-02-01T10:30:16.165094"
    },
    "code_folding": [
     13,
     50,
     54,
     57,
     60
    ],
    "collapsed": false,
    "run_control": {
     "frozen": false,
     "read_only": false
    }
   },
   "outputs": [],
   "source": [
    "# This variable should match the name of the parent directory containing\n",
    "#    the flight data for the given mission. Used in defining file input \n",
    "#    and output names\n",
    "flight = 'RF07_20180131'\n",
    "\n",
    "# Specifiy the type of output plot you'd like\n",
    "#    Currently, this script only supports making one type at a time\n",
    "fourPanel_5min     = False # Plot 5-min periods spanning startT-endT\n",
    "fourPanel_15min    = True # Plot 15-min periods spanning startT-endT\n",
    "fourPanel_variable = False # Plot only user-defined periods of variable length (see RF02 settings below for an example)\n",
    "\n",
    "# Define flight-specific parameters, namely the period over which to produce plots\n",
    "#    # RF02 case below is commented - please read for more information\n",
    "if flight == 'RF01_20180116':\n",
    "    startT = '20180115_230000'\n",
    "    endT = '20180116_054500'\n",
    "    \n",
    "if flight == 'RF02_20180119':\n",
    "    # If we're only plotting between a single start and end, define only those times\n",
    "    if not fourPanel_variable:\n",
    "        # startT and endT should be strings of the format 'YYYYmmdd_HHMMSS'\n",
    "        #    Be sure that the defined range is evenly divisible by your plot\n",
    "        #    period (i.e., start and end at 00, 15, 30, or 45 min if plot period is every 15 min)\n",
    "        startT = '20180119_004500'\n",
    "        endT = '20180119_064500'\n",
    "        \n",
    "    else:\n",
    "        # Change this to plot the Nth segment in the following set of arrays\n",
    "        #    Currently, you'll need to run the code for each segment \n",
    "        #   (I will automate this if this is commonly used)\n",
    "        segNum = 11\n",
    "\n",
    "        # Set startT and endT pairs for every segment. The ranges between these can be \n",
    "        #    whatever you wish, though times must be rounded to minutes (SS must equal 00)\n",
    "        startT_segs = ['20180119_033500','20180119_034600','20180119_035300','20180119_041400',\n",
    "                       '20180119_042300','20180119_044500','20180119_050100','20180119_051200',\n",
    "                      '20180119_052500','20180119_054200','20180119_055500']\n",
    "        endT_segs = ['20180119_034500','20180119_035200','20180119_040200','20180119_042300',\n",
    "                     '20180119_043500','20180119_050000','20180119_051100','20180119_051800',\n",
    "                    '20180119_053300','20180119_054800','20180119_063200']\n",
    "        \n",
    "        \n",
    "        startT_s = [dt.strptime(sT,'%Y%m%d_%H%M%S') for sT in startT_segs]\n",
    "        endT_s = [dt.strptime(eT,'%Y%m%d_%H%M%S') for eT in endT_segs]\n",
    "        dur_segs = [int((eT-sT).seconds/60) for eT,sT in zip(endT_s,startT_s)]\n",
    "\n",
    "        startT = startT_segs[segNum-1]\n",
    "        endT = endT_segs[segNum-1]\n",
    "        \n",
    "    \n",
    "if flight == 'RF03_20180123':\n",
    "    startT = '20180122_211500'\n",
    "    endT = '20180123_034500'\n",
    "    \n",
    "if flight == 'RF04_20180124':\n",
    "    startT = '20180123_233000'\n",
    "    endT = '20180124_054500'\n",
    "if flight == 'RF05_20180126':\n",
    "    startT = '20180125_230000'\n",
    "    endT = '20180126_051500'\n",
    "if flight == 'RF06_20180129':\n",
    "    startT = '20180128_230000'\n",
    "    endT = '20180129_060000'\n",
    "if flight == 'RF07_20180131':\n",
    "    startT = '20180131_010000'\n",
    "    endT = '20180131_073000'\n",
    "\n",
    "\n",
    "# Define plot period duration and save directory name\n",
    "if fourPanel_5min:\n",
    "    dur = 5\n",
    "    saveDir = '5min_4panel'\n",
    "    \n",
    "if fourPanel_15min:\n",
    "    dur = 15\n",
    "    saveDir = '15min_4panel'\n",
    "\n",
    "if fourPanel_variable:\n",
    "    dur = dur_segs[segNum-1] # Duration of plot period in minutes\n",
    "    saveDir = 'variableSegs_4panel'\n",
    "\n",
    "   \n",
    "# Create a timedelta corresponding to out plotting period\n",
    "tDelta = datetime.timedelta(minutes=dur)\n",
    "\n",
    "# Define the path/name of our concatenated HCR data file\n",
    "hcrFile = '/Volumes/SOCRATES_1/' + flight + '/HCR/' + flight + '_concat-HCR-moments.nc'\n",
    "\n",
    "# Define the path where figures should be saved and make any required directories\n",
    "figSavePath = '/Users/danstechman/GoogleDrive/School/Research/SOCRATES/UI_OU_SOCRATES_Group/SOCRATES/Plots/' + flight + '/HCR/' + saveDir + '/'\n",
    "os.makedirs(figSavePath,exist_ok=True)\n",
    "\n",
    "# What type of file do we want our plots to be saved as? (i.e., png, pdf, jpeg,...)\n",
    "fType = 'png'"
   ]
  },
  {
   "cell_type": "markdown",
   "metadata": {
    "run_control": {
     "frozen": false,
     "read_only": false
    }
   },
   "source": [
    "## Read data\n",
    "Read in the concatenated HCR variables"
   ]
  },
  {
   "cell_type": "code",
   "execution_count": null,
   "metadata": {
    "ExecuteTime": {
     "end_time": "2018-02-01T10:31:33.497749",
     "start_time": "2018-02-01T10:30:16.442455"
    },
    "collapsed": false,
    "run_control": {
     "frozen": false,
     "read_only": false
    }
   },
   "outputs": [],
   "source": [
    "if 'dbz' not in locals(): # Used to speed up variable segment plotting - this condition can be disabled\n",
    "    print('{}    Reading concatenated HCR data file for {}...'.format(dt.strftime(dt.now(),'%y/%m/%d %H:%M:%S'),flight))\n",
    "    hcrData = xr.open_dataset(hcrFile)\n",
    "\n",
    "    time1d = np.asarray(hcrData['time1d'].data,dtype='datetime64[ns]')\n",
    "    time1d_rnd = (pd.to_datetime(time1d)).round('1s').values\n",
    "    time2d = np.asarray(hcrData['time2d'].data,dtype='datetime64[ns]')\n",
    "    gateAlt = hcrData['gateAlt2d'].data\n",
    "    elev = hcrData['elevation'].data\n",
    "    \n",
    "    planeAlt = hcrData['planeAlt'].data\n",
    "\n",
    "    # Determine the time indices where the HCR is pointing downward\n",
    "    radDwnwrd = np.where(elev < 0.0)\n",
    "\n",
    "    dbz = hcrData['DBZ'].data\n",
    "    vel = hcrData['VEL'].data\n",
    "    width = hcrData['WIDTH'].data\n",
    "    ldr = hcrData['LDR'].data\n",
    "    ncp = hcrData['NCP'].data\n",
    "    snr = hcrData['SNR'].data\n",
    "\n",
    "    # Adjust radial velocities so negative values are always downward\n",
    "    vel[radDwnwrd,:] *= -1"
   ]
  },
  {
   "cell_type": "markdown",
   "metadata": {
    "run_control": {
     "frozen": false,
     "read_only": false
    }
   },
   "source": [
    "## Mask Variables\n",
    "Mask variables to be plotted based on a number of (adjustable) criteria."
   ]
  },
  {
   "cell_type": "code",
   "execution_count": null,
   "metadata": {
    "ExecuteTime": {
     "end_time": "2018-02-01T10:31:57.492310",
     "start_time": "2018-02-01T10:31:33.499330"
    },
    "collapsed": false,
    "run_control": {
     "frozen": false,
     "read_only": false
    },
    "scrolled": true
   },
   "outputs": [],
   "source": [
    "if 'dbz_masked_ncp' not in locals(): # Used to speed up variable segment plotting - this condition can be disabled\n",
    "    print('{}    Masking radar moments...'.format(dt.strftime(dt.now(),'%y/%m/%d %H:%M:%S')))\n",
    "    dbz_masked_ncp = np.ma.masked_where((ncp < 0.2)|(gateAlt < 0)|np.isnan(dbz)|np.isinf(dbz),dbz)\n",
    "    vel_masked_ncp = np.ma.masked_where((ncp < 0.2)|(gateAlt < 0)|np.isnan(dbz)|np.isinf(dbz),vel)\n",
    "    width_masked_ncp = np.ma.masked_where((ncp < 0.2)|(gateAlt < 0)|np.isnan(dbz)|np.isinf(dbz),width)\n",
    "    ldr_masked_ncp = np.ma.masked_where((ncp < 0.2)|(gateAlt < 0)|np.isnan(dbz)|np.isinf(dbz),ldr)"
   ]
  },
  {
   "cell_type": "markdown",
   "metadata": {
    "run_control": {
     "frozen": false,
     "read_only": false
    }
   },
   "source": [
    "## Data Index ID\n",
    "Determine which data indices will provide data between the user-defined start and end times"
   ]
  },
  {
   "cell_type": "code",
   "execution_count": null,
   "metadata": {
    "ExecuteTime": {
     "end_time": "2018-02-01T10:32:39.395632",
     "start_time": "2018-02-01T10:31:57.495649"
    },
    "collapsed": false,
    "run_control": {
     "frozen": false,
     "read_only": false
    }
   },
   "outputs": [],
   "source": [
    "# Convert the start and end time strings into datetimes\n",
    "startT_dt = dt.strptime(startT,'%Y%m%d_%H%M%S')\n",
    "endT_dt = dt.strptime(endT,'%Y%m%d_%H%M%S')\n",
    "\n",
    "# Find indices of the time variable most closely matching startT_dt and endT_dt\n",
    "tMatchStrt = min(time1d_rnd, key=lambda x: abs(pd.to_datetime(x) - startT_dt))\n",
    "startT_ix = np.squeeze(np.where(time1d_rnd == tMatchStrt))[0] # If multiple matches, just use the first one (earliest)\n",
    "tMatchEnd = min(time1d_rnd, key=lambda x: abs(pd.to_datetime(x) - endT_dt))\n",
    "endT_ix = np.squeeze(np.where(time1d_rnd == tMatchEnd))[-1] # If multiple matches, just use the last one (latest)\n",
    "\n",
    "# Get the actual start/end datetimes (from the time variable, not the user-defined start/end)\n",
    "strtDT_rnd = pd.to_datetime(time1d_rnd[startT_ix])\n",
    "endDT_rnd = pd.to_datetime(time1d_rnd[endT_ix])"
   ]
  },
  {
   "cell_type": "markdown",
   "metadata": {
    "ExecuteTime": {
     "end_time": "2018-01-18T21:55:25.821900",
     "start_time": "2018-01-18T21:55:25.796621"
    },
    "collapsed": false,
    "run_control": {
     "frozen": false,
     "read_only": false
    }
   },
   "source": [
    "## Create plots"
   ]
  },
  {
   "cell_type": "code",
   "execution_count": null,
   "metadata": {
    "ExecuteTime": {
     "end_time": "2018-02-01T11:12:50.066160",
     "start_time": "2018-02-01T10:32:39.397358"
    },
    "collapsed": false,
    "run_control": {
     "frozen": false,
     "read_only": false
    }
   },
   "outputs": [],
   "source": [
    "print('{}    Starting plot creation...'.format(dt.strftime(dt.now(),'%y/%m/%d %H:%M:%S')))\n",
    "\n",
    "# Initialize the plotting frame start and end times\n",
    "tmpStrtDT = strtDT_rnd\n",
    "tmpEndDT = strtDT_rnd + tDelta\n",
    "\n",
    "# Loop through our data until the end time of a given plotting frame exceeds the\n",
    "#   end time defined by the user\n",
    "#   **The extra minute timedelta is a fudge factor needed due to a currently unidentified bug\n",
    "while tmpEndDT <= (endDT_rnd + datetime.timedelta(minutes=1)):\n",
    "    \n",
    "    # Define plot title and filename strings depending on the time range of the plot,\n",
    "    #    and whether the plot frame spans two days (i.e., don't print the date twice, \n",
    "    #    if it doesn't actually change)\n",
    "    if tmpStrtDT.day == tmpEndDT.day:\n",
    "        titleDTstr = '{} - {}-{}'.format(dt.strftime(tmpStrtDT,'%Y%m%d'),dt.strftime(tmpStrtDT,'%H:%M:%S'),\n",
    "                                         dt.strftime(tmpEndDT,'%H:%M:%S'))\n",
    "        if tDelta <= datetime.timedelta(minutes=5):\n",
    "            saveDTstr = '{}_{}-{}'.format(dt.strftime(tmpStrtDT,'%Y%m%d'),dt.strftime(tmpStrtDT,'%H%M%S'),\n",
    "                                             dt.strftime(tmpEndDT,'%H%M%S'))\n",
    "        else:\n",
    "            saveDTstr = '{}_{}-{}'.format(dt.strftime(tmpStrtDT,'%Y%m%d'),dt.strftime(tmpStrtDT,'%H%M'),\n",
    "                                             dt.strftime(tmpEndDT,'%H%M'))\n",
    "    else:\n",
    "        titleDTstr = '{}-{} - {}-{}'.format(dt.strftime(tmpStrtDT,'%Y%m%d'),dt.strftime(tmpStrtDT,'%H:%M:%S'),\n",
    "                                         dt.strftime(tmpEndDT,'%Y%m%d'),dt.strftime(tmpEndDT,'%H:%M:%S'))\n",
    "        if tDelta <= datetime.timedelta(minutes=5):\n",
    "            saveDTstr = '{}_{}-{}_{}'.format(dt.strftime(tmpStrtDT,'%Y%m%d'),dt.strftime(tmpStrtDT,'%H%M'),\n",
    "                                             dt.strftime(tmpEndDT,'%Y%m%d'),dt.strftime(tmpEndDT,'%H%M%S'))\n",
    "        else:\n",
    "            saveDTstr = '{}_{}-{}_{}'.format(dt.strftime(tmpStrtDT,'%Y%m%d'),dt.strftime(tmpStrtDT,'%H%M'),\n",
    "                                             dt.strftime(tmpEndDT,'%Y%m%d'),dt.strftime(tmpEndDT,'%H%M'))\n",
    "    \n",
    "    print('\\tPlotting {}'.format(titleDTstr))\n",
    "    \n",
    "    # If our plotting period is longer than 5 minutes, don't show seconds in the xtick labels\n",
    "    if tDelta <= datetime.timedelta(minutes=5):\n",
    "        xtick_formatter = mdates.DateFormatter(fmt='%H:%M:%S')\n",
    "    else:\n",
    "        xtick_formatter = mdates.DateFormatter(fmt='%H:%M')\n",
    "    \n",
    "    \n",
    "    # Find start and end indices most closely matching current plotting frame bounds\n",
    "    tMatchStrt = min(time1d_rnd, key=lambda x: abs(pd.to_datetime(x) - tmpStrtDT))\n",
    "    tmpStIx = np.squeeze(np.where(time1d_rnd == tMatchStrt))[0]\n",
    "    tMatchEnd = min(time1d_rnd, key=lambda x: abs(pd.to_datetime(x) - tmpEndDT))\n",
    "    tmpEndIx = np.squeeze(np.where(time1d_rnd == tMatchEnd))[-1]\n",
    "\n",
    "    \n",
    "    # Initialize figure with 4 subplots, sharing x and y axes\n",
    "    # Figure size should *roughly* yield a 1:1 ratio for the plot dimensions, but this is\n",
    "    #    entirely dependent on aircraft speed at any given time\n",
    "    fig, (ax1, ax2, ax3, ax4) = plt.subplots(4, sharex=True, sharey=True,figsize=(16*(dur/5.),28))\n",
    "    axFsz = 32\n",
    "    caxFsz = 28\n",
    "    ttlFsz = 36\n",
    "    tkFsz = 24\n",
    "    ctkFsz = 20\n",
    "    caxShrnk = 0.9\n",
    "    \n",
    "    # Optionally define strings to append to the title and/or filename for special cases\n",
    "    if fourPanel_variable:\n",
    "        titleAppnd = ' - Seg #' + str(segNum)\n",
    "        saveAppnd = '_Seg' + str(segNum)\n",
    "    else:\n",
    "        titleAppnd = ''\n",
    "        saveAppnd = ''\n",
    "\n",
    "        \n",
    "    # Plot reflectivity and create our figure title\n",
    "    im1 = ax1.pcolormesh(time2d[tmpStIx:tmpEndIx,:],gateAlt[tmpStIx:tmpEndIx,:]/1000,dbz_masked_ncp[tmpStIx:tmpEndIx,:],\n",
    "                         vmin=-40,vmax=16,cmap=pyart.graph.cm.LangRainbow12)\n",
    "    ax1.plot(time2d[tmpStIx:tmpEndIx,:],planeAlt[tmpStIx:tmpEndIx]/1000,\n",
    "             'k-',linewidth=6)\n",
    "    ax1.set_ylim([0,7])\n",
    "    cax1 = fig.colorbar(im1,ax=ax1,fraction=0.08,shrink=caxShrnk,pad=0.008)\n",
    "    cax1.set_label('Reflectivity (dBZ)',fontsize=caxFsz)\n",
    "    cax1.ax.set_yticklabels(cax1.ax.get_yticklabels(), fontsize=ctkFsz)\n",
    "    ax1.tick_params(axis='both', which='major', labelsize=tkFsz)\n",
    "    ax1.set_title('SOCRATES - {} UTC{}'.format(titleDTstr,titleAppnd),fontsize=ttlFsz) \n",
    "    ax1.grid()\n",
    "\n",
    "\n",
    "    # Plot radial velocity and label the y-axis\n",
    "    im2 = ax2.pcolormesh(time2d[tmpStIx:tmpEndIx,:],gateAlt[tmpStIx:tmpEndIx,:]/1000,vel_masked_ncp[tmpStIx:tmpEndIx,:],\n",
    "                         vmin=-5,vmax=5,cmap=pyart.graph.cm.Wild25_r)\n",
    "    ax2.plot(time2d[tmpStIx:tmpEndIx,:],planeAlt[tmpStIx:tmpEndIx]/1000,\n",
    "             'k-',linewidth=6)\n",
    "    ax2.set_ylim([0,7])\n",
    "    cax2 = fig.colorbar(im2,ax=ax2,fraction=0.08,shrink=caxShrnk,pad=0.008)\n",
    "    cax2.set_label('Radial Velocity (m/s)',fontsize=caxFsz)\n",
    "    cax2.ax.set_yticklabels(cax2.ax.get_yticklabels(), fontsize=ctkFsz)\n",
    "    ax2.tick_params(axis='both', which='major', labelsize=tkFsz)\n",
    "    ax2.set_ylabel('Altitude (km)',fontsize=axFsz)\n",
    "    ax2.grid()\n",
    "\n",
    "\n",
    "    # Plot LDR\n",
    "    im3 = ax3.pcolormesh(time2d[tmpStIx:tmpEndIx,:],gateAlt[tmpStIx:tmpEndIx,:]/1000,ldr_masked_ncp[tmpStIx:tmpEndIx,:],\n",
    "                         vmin=-40,vmax=0,cmap=pyart.graph.cm.NWSRef)\n",
    "    ax3.plot(time2d[tmpStIx:tmpEndIx,:],planeAlt[tmpStIx:tmpEndIx]/1000,\n",
    "             'k-',linewidth=6)\n",
    "    ax3.set_ylim([0,7])\n",
    "    cax3 = fig.colorbar(im3,ax=ax3,fraction=0.08,shrink=caxShrnk,pad=0.008)\n",
    "    cax3.ax.set_yticklabels(cax3.ax.get_yticklabels(), fontsize=ctkFsz)\n",
    "    cax3.set_label('LDR (dB)',fontsize=caxFsz)\n",
    "    ax3.tick_params(axis='both', which='major', labelsize=tkFsz)\n",
    "    ax3.grid()\n",
    "\n",
    "\n",
    "    # Plot spectral width and label the x-axis (time)\n",
    "    im4 = ax4.pcolormesh(time2d[tmpStIx:tmpEndIx,:],gateAlt[tmpStIx:tmpEndIx,:]/1000,width_masked_ncp[tmpStIx:tmpEndIx,:],\n",
    "                         vmin=0,vmax=3,cmap=pyart.graph.cm.RefDiff)\n",
    "    ax4.plot(time2d[tmpStIx:tmpEndIx,:],planeAlt[tmpStIx:tmpEndIx]/1000,\n",
    "             'k-',linewidth=6)\n",
    "    cax4 = fig.colorbar(im4,ax=ax4,fraction=0.08,shrink=caxShrnk,pad=0.008)\n",
    "    cax4.set_label('Spectral Width (m/s)',fontsize=caxFsz,)\n",
    "    cax4.ax.set_yticklabels(cax4.ax.get_yticklabels(), fontsize=ctkFsz)\n",
    "    ax4.set_xlabel('Time (UTC)',fontsize=axFsz)\n",
    "    ax4.xaxis.set_major_locator(mdates.MinuteLocator())\n",
    "    ax4.xaxis.set_major_formatter(xtick_formatter)\n",
    "    ax4.tick_params(axis='both', which='major', labelsize=tkFsz)\n",
    "    ax4.grid()\n",
    "\n",
    "\n",
    "    # Clean up the date format a bit further and remove extra whitespace between subplots\n",
    "    fig.autofmt_xdate()\n",
    "    fig.subplots_adjust(hspace=0.08)\n",
    "\n",
    "\n",
    "    # Save the output figure\n",
    "    saveStr = '{}HCR-moments_{}{}.{}'.format(figSavePath,saveDTstr,saveAppnd,fType)\n",
    "    fig.savefig(saveStr,bbox_inches='tight')\n",
    "\n",
    "    # Set the start and end times for the next plot\n",
    "    tmpStrtDT = tmpEndDT\n",
    "    tmpEndDT += tDelta\n",
    "\n",
    "print('\\nTotal script run time: {}'.format(dt.now() - scriptStrtT))"
   ]
  }
 ],
 "metadata": {
  "anaconda-cloud": {},
  "kernelspec": {
   "display_name": "Python [conda root]",
   "language": "python",
   "name": "conda-root-py"
  },
  "language_info": {
   "codemirror_mode": {
    "name": "ipython",
    "version": 3
   },
   "file_extension": ".py",
   "mimetype": "text/x-python",
   "name": "python",
   "nbconvert_exporter": "python",
   "pygments_lexer": "ipython3",
   "version": "3.5.2"
  }
 },
 "nbformat": 4,
 "nbformat_minor": 1
}
